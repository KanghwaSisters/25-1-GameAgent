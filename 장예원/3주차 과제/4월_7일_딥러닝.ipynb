{
  "nbformat": 4,
  "nbformat_minor": 0,
  "metadata": {
    "colab": {
      "provenance": []
    },
    "kernelspec": {
      "name": "python3",
      "display_name": "Python 3"
    },
    "language_info": {
      "name": "python"
    }
  },
  "cells": [
    {
      "cell_type": "markdown",
      "source": [
        "## 딥러닝 실습 과제 3주차 - CNN을 활용한 이미지 데이터 증강 실험\n",
        "\n",
        "다음  네 가지 활동을 해봅시다.\n",
        "\n",
        "01. **데이터 전처리 및 로딩**: \"기존\" vs \"기존 + 증강\"\n",
        "02. **모델 설계**: CNN 기반 분류 모델 재사용 및 수정\n",
        "03. **손실 함수 정의**: 각 칸에 대해 3-클래스 분류\n",
        "04. **증강 적용 유무에 따른 성능 비교**"
      ],
      "metadata": {
        "id": "_vECysj7UNoM"
      }
    },
    {
      "cell_type": "markdown",
      "source": [
        "TTTDataset.zip을 불러와 문제에서 요하는 코드를 구현하세요.\n",
        "\n",
        "💡 **데이터 구조**  \n",
        "- **`image_black`** : 이미지 데이터  \n",
        "- **`labels`** : 타겟 데이터  "
      ],
      "metadata": {
        "id": "s3_fdD7Y2iY4"
      }
    },
    {
      "cell_type": "code",
      "source": [
        "from google.colab import drive\n",
        "drive.mount('/content/drive')"
      ],
      "metadata": {
        "colab": {
          "base_uri": "https://localhost:8080/"
        },
        "id": "Emp3WjnhSKg-",
        "outputId": "7fbaaceb-dabf-44ae-ac83-4a1fbdf84cfc"
      },
      "execution_count": 131,
      "outputs": [
        {
          "output_type": "stream",
          "name": "stdout",
          "text": [
            "Drive already mounted at /content/drive; to attempt to forcibly remount, call drive.mount(\"/content/drive\", force_remount=True).\n"
          ]
        }
      ]
    },
    {
      "cell_type": "code",
      "source": [
        "import torch\n",
        "from torch.utils.data import Dataset, DataLoader, random_split\n",
        "from PIL import Image\n",
        "import json\n",
        "import glob\n",
        "import os"
      ],
      "metadata": {
        "id": "plOA2vEEKeEe"
      },
      "execution_count": 132,
      "outputs": []
    },
    {
      "cell_type": "code",
      "source": [
        "import torch.nn as nn\n",
        "import torch.optim as optim\n",
        "import matplotlib.pyplot as plt"
      ],
      "metadata": {
        "id": "BiN_OntoSVmU"
      },
      "execution_count": 133,
      "outputs": []
    },
    {
      "cell_type": "markdown",
      "source": [
        "## 00. 클래스\n",
        "정의한 클래스를 이용해 실행해 주세요."
      ],
      "metadata": {
        "id": "MCpJfLtnagvV"
      }
    },
    {
      "cell_type": "code",
      "source": [
        "class TTTDataset(Dataset):\n",
        "    def __init__(self, image_paths, label_paths, transform=None):\n",
        "        \"\"\"\n",
        "        틱택토 데이터셋을 PyTorch Dataset 형태로 변환.\n",
        "        :param image_paths: 이미지 파일 경로 리스트\n",
        "        :param label_paths: 레이블 JSON 파일 경로 리스트\n",
        "        :param transform: 이미지 전처리 변환\n",
        "        \"\"\"\n",
        "        self.image_paths = image_paths\n",
        "        self.label_paths = label_paths\n",
        "        self.transform = transform\n",
        "        self.data = self._load_data()\n",
        "\n",
        "\n",
        "    def _load_data(self):\n",
        "        \"\"\" 이미지 & 레이블 로드 \"\"\"\n",
        "        data = []\n",
        "        for img_path, lbl_path in zip(self.image_paths, self.label_paths):\n",
        "            # 이미지를 흑백(Grayscale)로 변환\n",
        "            image = Image.open(img_path).convert(\"L\")  # \"RGB\" 대신 \"L\" 사용\n",
        "\n",
        "            # JSON 레이블 로드\n",
        "            with open(lbl_path, 'r') as f:\n",
        "                labels = json.load(f)\n",
        "\n",
        "            # 레이블을 숫자로 변환 (O=1, X=-1, blank=0)\n",
        "            label_tensor = torch.tensor(\n",
        "                [1 if v == \"O\" else -1 if v == \"X\" else 0 for v in labels.values()],\n",
        "                dtype=torch.float32\n",
        "            )\n",
        "            data.append((image, label_tensor))\n",
        "\n",
        "        return data\n",
        "\n",
        "\n",
        "    def __len__(self):\n",
        "        \"\"\" 데이터셋 크기 반환 \"\"\"\n",
        "        return len(self.data)\n",
        "\n",
        "\n",
        "    def __getitem__(self, idx):\n",
        "        \"\"\" 데이터셋에서 idx 번째 샘플(이미지 & 레이블)을 가져오는 역할 \"\"\"\n",
        "        image, label = self.data[idx]\n",
        "\n",
        "        if self.transform:\n",
        "            image = self.transform(image)\n",
        "\n",
        "        return image, label"
      ],
      "metadata": {
        "id": "Ymwd8gfCYHiq"
      },
      "execution_count": 134,
      "outputs": []
    },
    {
      "cell_type": "code",
      "source": [
        "# 압축 파일 풀기\n",
        "zip_path = \"/content/drive/MyDrive/TTTDataset.zip\"\n",
        "extract_path = \"/content/TTTDataset\"\n",
        "\n",
        "if not os.path.exists(extract_path):\n",
        "    !unzip -q \"{zip_path}\" -d \"/content/\"\n",
        "    print(\" 압축 해제 완료!\")\n",
        "else:\n",
        "    print(\" 이미 압축이 풀려 있으므로 건너뜁니다.\")"
      ],
      "metadata": {
        "colab": {
          "base_uri": "https://localhost:8080/"
        },
        "id": "8IW-GSVASQO6",
        "outputId": "1c81f939-bbdc-4c91-9296-36a7b4deff6c"
      },
      "execution_count": 135,
      "outputs": [
        {
          "output_type": "stream",
          "name": "stdout",
          "text": [
            " 이미 압축이 풀려 있으므로 건너뜁니다.\n"
          ]
        }
      ]
    },
    {
      "cell_type": "markdown",
      "source": [
        "## 01. 데이터 전처리 및 로딩: \"기존\" vs \"기존 + 증강\"\n",
        "\n",
        "💡 실험을 위한 **두 개의 DataLoader**를 구성하세요 (1주차 과제 참고)\n",
        "- 기존 데이터만 사용하는 DataLoader\n",
        "- 기존 데이터 + 실시간 transform 증강을 적용한 DataLoader\n"
      ],
      "metadata": {
        "id": "seQgBNd9aZNk"
      }
    },
    {
      "cell_type": "code",
      "source": [
        "from torchvision import transforms"
      ],
      "metadata": {
        "id": "WGUrhGc2DqJC"
      },
      "execution_count": 136,
      "outputs": []
    },
    {
      "cell_type": "code",
      "source": [
        "# 이미지 및 레이블 디렉토리 경로 설정\n",
        "image_dir = \"/content/TTTDataset/image_black\"\n",
        "label_dir = \"/content/TTTDataset/labels\"\n",
        "\n",
        "# 이미지와 라벨 파일 자동 수집 (확장자가 .jpg 또는 .JPG인 점 확인)\n",
        "image_paths = sorted(glob.glob(os.path.join(image_dir, \"*.jpg\")) +\n",
        "                     glob.glob(os.path.join(image_dir, \"*.JPG\")))\n",
        "\n",
        "label_paths = sorted(glob.glob(os.path.join(label_dir, \"*.json\")))"
      ],
      "metadata": {
        "id": "Ax4a1k3uH2TF"
      },
      "execution_count": 137,
      "outputs": []
    },
    {
      "cell_type": "markdown",
      "source": [
        "각자 이미지 전처리 실행!"
      ],
      "metadata": {
        "id": "5iKVVvS1UiEm"
      }
    },
    {
      "cell_type": "code",
      "source": [
        "# 기본 transform\n",
        "base_transform = transforms.Compose([\n",
        "    transforms.Resize((128, 128)),\n",
        "    transforms.ToTensor(), # 픽셀값을 텐서로 변환 (0~1로 자동 스케일링됨)\n",
        "    transforms.Normalize(mean=[0.5], std=[0.5])\n",
        "])\n",
        "\n",
        "# 증강 transform\n",
        "aug_transform = transforms.Compose([\n",
        "    transforms.Resize((128, 128)),\n",
        "    transforms.RandomRotation(15), # 주어진 각도에 대해 랜덤하게 회전\n",
        "    transforms.ColorJitter(brightness=0.3, contrast=0.3), # 컬러 관련 속성 변경\n",
        "    transforms.GaussianBlur(3), # 각 픽셀 주변의 값을 평균 내어 부드럽게 처리 / 노이즈 제거\n",
        "    transforms.ToTensor(),\n",
        "    transforms.Normalize(mean=[0.5], std=[0.5])\n",
        "])"
      ],
      "metadata": {
        "id": "IRSolv5kUKLd"
      },
      "execution_count": 138,
      "outputs": []
    },
    {
      "cell_type": "markdown",
      "source": [
        "각자 Dataset 및 Dataloader 정의!"
      ],
      "metadata": {
        "id": "0ZCBpZZiX2xQ"
      }
    },
    {
      "cell_type": "code",
      "source": [
        "# 기본 Dataset 생성\n",
        "base_dataset = TTTDataset(image_paths, label_paths, transform=base_transform)\n",
        "\n",
        "# 분할 비율 설정 (예: 70% train, 15% val, 15% test)\n",
        "total_size = len(base_dataset)\n",
        "train_size = int(0.7 * total_size)\n",
        "val_size = int(0.15 * total_size)\n",
        "test_size = total_size - train_size - val_size\n",
        "\n",
        "# 기본 Dataset 분할\n",
        "train_base_dataset, val_base_dataset, test_base_dataset = random_split(base_dataset, [train_size, val_size, test_size])\n",
        "\n",
        "# 기본 DataLoader 생성\n",
        "train_loader = DataLoader(train_base_dataset, batch_size=32, shuffle=True)\n",
        "val_loader = DataLoader(val_base_dataset, batch_size=32, shuffle=True)\n",
        "test_loader = DataLoader(test_base_dataset, batch_size=32, shuffle=True)"
      ],
      "metadata": {
        "id": "5L8C_4kLaI19"
      },
      "execution_count": 139,
      "outputs": []
    },
    {
      "cell_type": "markdown",
      "source": [
        "💡 **증강**은 \"실시간 변형\"을 뜻한다.\n",
        "- 동일한 이미지 경로/레이블 경로를 참조하기 때문에 개수가 완전히 동일하다! 따라서 **데이터 개수**가 늘어나는게 아니라 같은 개수의 데이터를 매번 **다르게 변형해서 학습에 사용**한다는 점~\n",
        "-  **`Subset(aug_dataset, train_base_dataset.indices)`**을 쓰는 이유는 **같은 데이터 분할 기준을 유지하면서 transform만 다르게 하기 위함**이다!\n",
        "- aug_dataset도 **`random_split`**으로 나눠버리면 **기존 학습용 데이터와 전혀 다른 데이터로 학습**하게 돼서 **transform의 효과를 비교하는 실험이 되지 않는다!**"
      ],
      "metadata": {
        "id": "pKlbOdT2gUKC"
      }
    },
    {
      "cell_type": "code",
      "source": [
        "# 증강 Dataset 생성\n",
        "aug_dataset = TTTDataset(image_paths, label_paths, transform=aug_transform)\n",
        "\n",
        "# 증강 Dataset 분할 (이때 random_split을 사용하지 않고, 동일한 분할 인덱스를 활용한다.)\n",
        "train_aug_dataset = torch.utils.data.Subset(aug_dataset, train_base_dataset.indices)\n",
        "\n",
        "# 증강 DataLoader 생성 (이때 val_loader 와 test_loader는 기본 Dataset의 것을 차용하기 때문에 별도로 생성하지 않는다.)\n",
        "train_aug_loader = DataLoader(train_aug_dataset, batch_size=32, shuffle=True)\n",
        "'''\n",
        "val_loader = DataLoader(val_base_dataset, batch_size=32, shuffle=True)\n",
        "test_loader = DataLoader(test_base_dataset, batch_size=32, shuffle=True)\n",
        "'''"
      ],
      "metadata": {
        "colab": {
          "base_uri": "https://localhost:8080/",
          "height": 35
        },
        "id": "n7PyLLwSc_K_",
        "outputId": "aca9577d-dfe0-49c7-df8f-bc634f4d45fa"
      },
      "execution_count": 140,
      "outputs": [
        {
          "output_type": "execute_result",
          "data": {
            "text/plain": [
              "'\\nval_loader = DataLoader(val_base_dataset, batch_size=32, shuffle=True)\\ntest_loader = DataLoader(test_base_dataset, batch_size=32, shuffle=True)\\n'"
            ],
            "application/vnd.google.colaboratory.intrinsic+json": {
              "type": "string"
            }
          },
          "metadata": {},
          "execution_count": 140
        }
      ]
    },
    {
      "cell_type": "markdown",
      "source": [
        "## 02. 모델 설계: CNN 기반 분류 모델 재사용 및 수정\n",
        "- 1채널 이미지 입력, 9 × 3-클래스 출력 구조 유지 (2주차 과제 참고)\n",
        "- Dropout/Hidden Layer 등 수정 가능\n"
      ],
      "metadata": {
        "id": "DYVGt8R27tXu"
      }
    },
    {
      "cell_type": "code",
      "source": [
        "import torch.nn as nn\n",
        "\n",
        "class TicTacToeCNN(nn.Module):\n",
        "    def __init__(self):\n",
        "        super(TicTacToeCNN, self).__init__()\n",
        "        # 첫번째 층: 1채널 -> 32채널, BatchNorm 추가\n",
        "        self.layer1 = nn.Sequential(\n",
        "            nn.Conv2d(in_channels=1, out_channels=32, kernel_size=3, padding=1),\n",
        "            nn.BatchNorm2d(32),\n",
        "            nn.ReLU(inplace=True),\n",
        "            nn.MaxPool2d(kernel_size=2, stride=2)  # (B, 32, 64, 64)\n",
        "        )\n",
        "\n",
        "        # 두번째 층: 32채널 -> 64채널, BatchNorm 추가\n",
        "        self.layer2 = nn.Sequential(\n",
        "            nn.Conv2d(in_channels=32, out_channels=64, kernel_size=3, padding=1),\n",
        "            nn.BatchNorm2d(64),\n",
        "            nn.ReLU(inplace=True),\n",
        "            nn.MaxPool2d(kernel_size=2, stride=2)  # (B, 64, 32, 32)\n",
        "        )\n",
        "\n",
        "        # 세번째 층: 64채널 -> 128채널, BatchNorm 추가\n",
        "        self.layer3 = nn.Sequential(\n",
        "            nn.Conv2d(in_channels=64, out_channels=128, kernel_size=3, padding=1),\n",
        "            nn.BatchNorm2d(128),\n",
        "            nn.ReLU(inplace=True),\n",
        "            nn.AdaptiveAvgPool2d((1, 1))           # (B, 128, 1, 1)\n",
        "        )\n",
        "\n",
        "        # Fully-connected Layer: 확장된 구조로 수정\n",
        "        self.fc_layer = nn.Sequential(\n",
        "            nn.Linear(128, 256),\n",
        "            nn.ReLU(inplace=True),\n",
        "            nn.Dropout(0.2),                       # Dropout 비율 약간 증가\n",
        "            nn.Linear(256, 128),\n",
        "            nn.ReLU(inplace=True),\n",
        "            nn.Linear(128, 9 * 3)                   # 최종 출력: 9칸 x 3 클래스\n",
        "        )\n",
        "\n",
        "    def forward(self, x):\n",
        "        x = self.layer1(x)              # (B, 32, 64, 64)\n",
        "        x = self.layer2(x)              # (B, 64, 32, 32)\n",
        "        x = self.layer3(x)              # (B, 128, 1, 1)\n",
        "        x = x.view(x.size(0), -1)       # (B, 128)\n",
        "        x = self.fc_layer(x)            # (B, 27)\n",
        "        return x.view(-1, 9, 3)         # (B, 9, 3)"
      ],
      "metadata": {
        "id": "yHA859eaDosf"
      },
      "execution_count": 141,
      "outputs": []
    },
    {
      "cell_type": "markdown",
      "source": [
        "## 03. 손실 함수 정의: 각 칸에 대해 3-클래스 분류\n",
        "- 다중 클래스 분류이므로 CrossEntropyLoss 사용 가능\n",
        "- 9개 칸을 각각 분류하는 방식으로 모델 구성\n",
        "- Adam 옵티마이저 사용 권장"
      ],
      "metadata": {
        "id": "ugSpuxB27va_"
      }
    },
    {
      "cell_type": "code",
      "source": [
        "device = torch.device(\"cuda\" if torch.cuda.is_available() else \"cpu\")\n",
        "# 모델 객체 선언\n",
        "model = TicTacToeCNN().to(device)\n",
        "\n",
        "# 손실 함수 정의 (다중 클래스 분류)\n",
        "criterion = nn.CrossEntropyLoss()\n",
        "# 최적화 알고리즘 정의\n",
        "optimizer = torch.optim.Adam(model.parameters(), lr=0.001)"
      ],
      "metadata": {
        "id": "st1wMoa8Dnwt"
      },
      "execution_count": 142,
      "outputs": []
    },
    {
      "cell_type": "markdown",
      "source": [
        "## 04. 증강 적용 유무에 따른 성능 비교\n",
        "- 두 개의 DataLoader로 두 번 실험\n",
        "- 같은 모델 구조로 학습 → 성능 차이 비교 (정확도/학습 안정성/과적합 여부 등)"
      ],
      "metadata": {
        "id": "cF58k_5VDhv-"
      }
    },
    {
      "cell_type": "code",
      "source": [
        "# 전처리 함수 정의\n",
        "def preprocess_batch(images, labels):\n",
        "    images = images.to(device)\n",
        "    labels = labels.to(device)\n",
        "    # CrossEntropy는 정수 클래스 (0, 1, 2)를 기대함\n",
        "    target = (labels + 1).to(torch.int64)   # -1 → 0, 0 → 1, 1 → 2로 정수형 변환\n",
        "    return images, target"
      ],
      "metadata": {
        "id": "T33wjZwADl7h"
      },
      "execution_count": 143,
      "outputs": []
    },
    {
      "cell_type": "code",
      "source": [
        "# 학습 함수 정의\n",
        "def train_model(model, loader, optimizer, criterion, val_loader, epochs=30):\n",
        "    model.train()\n",
        "    for epoch in range(epochs):\n",
        "      # 누적 손실 초기화\n",
        "      total_loss = 0\n",
        "\n",
        "      for images, labels in loader:\n",
        "          images, target = preprocess_batch(images, labels)\n",
        "\n",
        "          optimizer.zero_grad() # 기울기 초기화\n",
        "          outputs = model(images)  # (B, 9, 3)\n",
        "          loss = criterion(outputs.view(-1, 3), target.view(-1)) # 손실 계산\n",
        "          loss.backward() # 역전파\n",
        "          optimizer.step() # 가중치 업데이트\n",
        "          total_loss += loss.item() # 손실 누적\n",
        "      val_acc = evaluate(model, val_loader)\n",
        "      print(f\"[Epoch {epoch+1:02d}] Loss: {total_loss:.4f} | Val Accuracy: {val_acc:.2%}\")\n",
        "    return model"
      ],
      "metadata": {
        "id": "QVaUCQPaoMJG"
      },
      "execution_count": 144,
      "outputs": []
    },
    {
      "cell_type": "code",
      "source": [
        "# 평가 함수 정의\n",
        "def evaluate(model, loader):  # train_loader, val_loader, test_loader 중 하나를 넘길 수 있음\n",
        "    model.eval()\n",
        "    # 예측이 맞은 칸 수\n",
        "    correct = 0\n",
        "    # 전체 칸 수\n",
        "    total = 0\n",
        "\n",
        "    with torch.no_grad():\n",
        "        for images, labels in loader:\n",
        "            images, target = preprocess_batch(images, labels)\n",
        "            # 모델에 이미지 삽입하여 예측 수행\n",
        "            outputs = model(images)  # (B, 9, 3)\n",
        "            # 각 칸마다 3-클래스 중 가장 높은 점수를 선택\n",
        "            preds = outputs.argmax(dim=2)  # (B, 9)\n",
        "            correct += (preds == target).sum().item()\n",
        "            total += target.numel()\n",
        "\n",
        "    return correct / total"
      ],
      "metadata": {
        "id": "v4u0tgErn96P"
      },
      "execution_count": 145,
      "outputs": []
    },
    {
      "cell_type": "markdown",
      "source": [
        "**`get_new_model()`**은 두 실험의 조건을 공정하게 분리하기 위해 꼭 필요한 함수이다.\n",
        "- 우리가 비교하려는 건 **기존 데이터로 학습한 모델 vs 증강 데이터로 학습한 모델** 이기 때문에, 매 실험마다 **\"새 모델\"**로 시작해야 한다!\n",
        "- 모델을 새로 만들지 않는다면 두 번째 학습이 첫 번째 결과 위에 덮어씌워져서 실험 결과가 왜곡된다."
      ],
      "metadata": {
        "id": "I573LDL5_8qh"
      }
    },
    {
      "cell_type": "code",
      "source": [
        "# 모델 정의\n",
        "def get_new_model():\n",
        "    model = TicTacToeCNN().to(device)\n",
        "    optimizer = torch.optim.Adam(model.parameters(), lr=0.001)\n",
        "    criterion = nn.CrossEntropyLoss()\n",
        "    return model, optimizer, criterion"
      ],
      "metadata": {
        "id": "gt3ysd31Atoj"
      },
      "execution_count": 146,
      "outputs": []
    },
    {
      "cell_type": "markdown",
      "source": [
        "- **기존 데이터 vs 증강 데이터**에 대해 각각 학습하고,\n",
        "- **동일한 검증셋**에서 최종 성능을 비교하는 코드"
      ],
      "metadata": {
        "id": "TP-82KVlBK06"
      }
    },
    {
      "cell_type": "code",
      "source": [
        "# 실험 1: 증강 없이 기본 이미지 학습\n",
        "print(\"실험 1: 증강 없이 기본 이미지 학습\")\n",
        "model1, optimizer1, criterion1 = get_new_model() # 모델, 옵티마이저, 손실 함수 초기화\n",
        "model1 = train_model(model1, train_loader, optimizer1, criterion1, val_loader)"
      ],
      "metadata": {
        "colab": {
          "base_uri": "https://localhost:8080/"
        },
        "id": "1OQKcy1WqQNZ",
        "outputId": "83c97708-1af0-4f16-ebc9-719a883a50c1"
      },
      "execution_count": 147,
      "outputs": [
        {
          "output_type": "stream",
          "name": "stdout",
          "text": [
            "실험 1: 증강 없이 기본 이미지 학습\n",
            "[Epoch 01] Loss: 10.8884 | Val Accuracy: 35.99%\n",
            "[Epoch 02] Loss: 10.7427 | Val Accuracy: 40.30%\n",
            "[Epoch 03] Loss: 10.5583 | Val Accuracy: 41.29%\n",
            "[Epoch 04] Loss: 10.2593 | Val Accuracy: 46.43%\n",
            "[Epoch 05] Loss: 9.8438 | Val Accuracy: 49.92%\n",
            "[Epoch 06] Loss: 9.4804 | Val Accuracy: 49.09%\n",
            "[Epoch 07] Loss: 9.2561 | Val Accuracy: 52.57%\n",
            "[Epoch 08] Loss: 9.1575 | Val Accuracy: 48.26%\n",
            "[Epoch 09] Loss: 9.0450 | Val Accuracy: 50.75%\n",
            "[Epoch 10] Loss: 8.9832 | Val Accuracy: 50.08%\n",
            "[Epoch 11] Loss: 8.9060 | Val Accuracy: 49.75%\n",
            "[Epoch 12] Loss: 8.9235 | Val Accuracy: 51.91%\n",
            "[Epoch 13] Loss: 8.8746 | Val Accuracy: 49.59%\n",
            "[Epoch 14] Loss: 8.7892 | Val Accuracy: 51.74%\n",
            "[Epoch 15] Loss: 8.7273 | Val Accuracy: 51.91%\n",
            "[Epoch 16] Loss: 8.6471 | Val Accuracy: 50.91%\n",
            "[Epoch 17] Loss: 8.5947 | Val Accuracy: 50.41%\n",
            "[Epoch 18] Loss: 8.6138 | Val Accuracy: 51.58%\n",
            "[Epoch 19] Loss: 8.6093 | Val Accuracy: 51.08%\n",
            "[Epoch 20] Loss: 8.6916 | Val Accuracy: 53.57%\n",
            "[Epoch 21] Loss: 8.5716 | Val Accuracy: 51.74%\n",
            "[Epoch 22] Loss: 8.5382 | Val Accuracy: 52.90%\n",
            "[Epoch 23] Loss: 8.4762 | Val Accuracy: 52.74%\n",
            "[Epoch 24] Loss: 8.4323 | Val Accuracy: 52.07%\n",
            "[Epoch 25] Loss: 8.3992 | Val Accuracy: 53.07%\n",
            "[Epoch 26] Loss: 8.4339 | Val Accuracy: 49.92%\n",
            "[Epoch 27] Loss: 8.5185 | Val Accuracy: 51.58%\n",
            "[Epoch 28] Loss: 8.4948 | Val Accuracy: 53.57%\n",
            "[Epoch 29] Loss: 8.4031 | Val Accuracy: 52.40%\n",
            "[Epoch 30] Loss: 8.4038 | Val Accuracy: 52.24%\n"
          ]
        }
      ]
    },
    {
      "cell_type": "code",
      "source": [
        "# 실험 2: 증강 이미지 학습\n",
        "print(\"실험 2: 증강 이미지 학습\")\n",
        "model2, optimizer2, criterion2 = get_new_model()\n",
        "model2 = train_model(model2, train_aug_loader, optimizer2, criterion2, val_loader)"
      ],
      "metadata": {
        "colab": {
          "base_uri": "https://localhost:8080/"
        },
        "id": "BpWkK45BqS4E",
        "outputId": "d9808f4e-2d12-4b0e-a1b6-39ce6c153527"
      },
      "execution_count": 148,
      "outputs": [
        {
          "output_type": "stream",
          "name": "stdout",
          "text": [
            "실험 2: 증강 이미지 학습\n",
            "[Epoch 01] Loss: 10.8779 | Val Accuracy: 37.15%\n",
            "[Epoch 02] Loss: 10.7709 | Val Accuracy: 40.96%\n",
            "[Epoch 03] Loss: 10.4949 | Val Accuracy: 43.12%\n",
            "[Epoch 04] Loss: 10.1200 | Val Accuracy: 47.26%\n",
            "[Epoch 05] Loss: 9.6990 | Val Accuracy: 52.24%\n",
            "[Epoch 06] Loss: 9.5037 | Val Accuracy: 51.74%\n",
            "[Epoch 07] Loss: 9.2761 | Val Accuracy: 52.07%\n",
            "[Epoch 08] Loss: 9.2268 | Val Accuracy: 51.91%\n",
            "[Epoch 09] Loss: 9.1988 | Val Accuracy: 51.24%\n",
            "[Epoch 10] Loss: 9.1362 | Val Accuracy: 52.57%\n",
            "[Epoch 11] Loss: 9.0205 | Val Accuracy: 51.24%\n",
            "[Epoch 12] Loss: 9.0104 | Val Accuracy: 52.90%\n",
            "[Epoch 13] Loss: 8.9514 | Val Accuracy: 51.24%\n",
            "[Epoch 14] Loss: 8.9055 | Val Accuracy: 52.74%\n",
            "[Epoch 15] Loss: 8.8935 | Val Accuracy: 52.07%\n",
            "[Epoch 16] Loss: 8.8462 | Val Accuracy: 50.75%\n",
            "[Epoch 17] Loss: 8.8554 | Val Accuracy: 52.07%\n",
            "[Epoch 18] Loss: 8.8442 | Val Accuracy: 49.42%\n",
            "[Epoch 19] Loss: 8.8196 | Val Accuracy: 51.41%\n",
            "[Epoch 20] Loss: 8.8124 | Val Accuracy: 53.90%\n",
            "[Epoch 21] Loss: 8.7590 | Val Accuracy: 52.24%\n",
            "[Epoch 22] Loss: 8.6796 | Val Accuracy: 53.57%\n",
            "[Epoch 23] Loss: 8.7446 | Val Accuracy: 52.07%\n",
            "[Epoch 24] Loss: 8.6483 | Val Accuracy: 50.08%\n",
            "[Epoch 25] Loss: 8.6625 | Val Accuracy: 54.06%\n",
            "[Epoch 26] Loss: 8.6376 | Val Accuracy: 53.23%\n",
            "[Epoch 27] Loss: 8.6041 | Val Accuracy: 51.91%\n",
            "[Epoch 28] Loss: 8.6340 | Val Accuracy: 55.39%\n",
            "[Epoch 29] Loss: 8.5811 | Val Accuracy: 53.90%\n",
            "[Epoch 30] Loss: 8.6028 | Val Accuracy: 51.74%\n"
          ]
        }
      ]
    },
    {
      "cell_type": "code",
      "source": [
        "# 최종 비교: 두 모델을 같은 기준으로 평가\n",
        "final_acc1 = evaluate(model1, val_loader)\n",
        "final_acc2 = evaluate(model2, val_loader)\n",
        "print(f\"Final Validation Accuracy (Base): {final_acc1:.2%}\")\n",
        "print(f\"Final Validation Accuracy (Augmented): {final_acc2:.2%}\")"
      ],
      "metadata": {
        "colab": {
          "base_uri": "https://localhost:8080/"
        },
        "id": "fipF9LiwBp22",
        "outputId": "15aaef7b-1fc1-458c-c4ea-6cbc5e460603"
      },
      "execution_count": 149,
      "outputs": [
        {
          "output_type": "stream",
          "name": "stdout",
          "text": [
            "Final Validation Accuracy (Base): 52.24%\n",
            "Final Validation Accuracy (Augmented): 51.74%\n"
          ]
        }
      ]
    }
  ]
}