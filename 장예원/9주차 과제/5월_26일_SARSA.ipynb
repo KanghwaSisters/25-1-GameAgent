{
  "nbformat": 4,
  "nbformat_minor": 0,
  "metadata": {
    "colab": {
      "provenance": []
    },
    "kernelspec": {
      "name": "python3",
      "display_name": "Python 3"
    },
    "language_info": {
      "name": "python"
    }
  },
  "cells": [
    {
      "cell_type": "markdown",
      "source": [
        "## SARSA\n",
        "다음 환경(**GridWorldEnvironment**)을 가지고 SARSA를 구현하세요."
      ],
      "metadata": {
        "id": "iXS28n306dDc"
      }
    },
    {
      "cell_type": "markdown",
      "source": [
        "## GridWorldEnvironment\n",
        "```py\n",
        "start_point = (0,0)\n",
        "end_point = (4,4)\n",
        "gridworld_size = (5,5)\n",
        "env = GridWorldEnvironment(start_point, end_point, grid_world_size)\n",
        "```"
      ],
      "metadata": {
        "id": "hoXHmyZi5t5R"
      }
    },
    {
      "cell_type": "markdown",
      "source": [
        "## Original Code"
      ],
      "metadata": {
        "id": "dm89RWca6WOS"
      }
    },
    {
      "cell_type": "code",
      "source": [
        "import numpy as np\n",
        "from typing import Tuple\n",
        "\n",
        "class GridWorldEnvironment:\n",
        "    def __init__(self, start_point:Tuple, end_point:Tuple, grid_world_size:Tuple):\n",
        "        # 시작점과 끝점을 받는다.\n",
        "        self.start_point = start_point\n",
        "        self.end_point = end_point if end_point != (-1,-1) else (grid_world_size[0] + end_point[0],\n",
        "                                                                 grid_world_size[1] + end_point[1])\n",
        "\n",
        "        # 그리드 월드의 규격을 받는다.\n",
        "        self.width, self.height = grid_world_size\n",
        "\n",
        "        # action dictionary\n",
        "        self.action_space = ['up', 'down', 'left', 'right']\n",
        "        self.num_actions = len(self.action_space)\n",
        "        self.actions = {'up':(-1,0),\n",
        "                        'down':(1,0),\n",
        "                        'left':(0,-1),\n",
        "                        'right':(0,1) }\n",
        "\n",
        "        # 상태 : 좌표로 나타남\n",
        "        self.traces = []\n",
        "\n",
        "        # total states\n",
        "        self.total_states = []\n",
        "        for x in range(self.width):\n",
        "            for y in range(self.height):\n",
        "                self.total_states.append((x,y))\n",
        "\n",
        "        # reward\n",
        "        self.reward = np.zeros(shape=(self.height, self.width)).tolist() # 2차원 그리드 형태\n",
        "        self.reward[end_point[0]][end_point[1]] = 1 # 목표 지점에 1 작성\n",
        "\n",
        "\n",
        "    def render(self):\n",
        "        # 그리드 월드의 상태 출력\n",
        "        self.grid_world = np.full(shape=(self.height, self.width), fill_value=\".\").tolist()\n",
        "\n",
        "        last_point = self.traces[-1] # 에이전트가 가장 마지막에 있었던 위치\n",
        "        traces = list(set(self.traces)) # 중복된 값을 삭제하기 위함\n",
        "        for trace in traces:\n",
        "            self.grid_world[trace[0]][trace[1]] = \"X\"\n",
        "\n",
        "        self.grid_world[self.start_point[0]][self.start_point[1]] = \"S\" # start point\n",
        "        self.grid_world[self.end_point[0]][self.end_point[1]] = \"G\" # end point\n",
        "        self.grid_world[last_point[0]][last_point[1]] = \"A\" # 현재 에이전트의 위치\n",
        "\n",
        "        # string으로 출력한다.\n",
        "        grid = \"\"\n",
        "\n",
        "        for i in range(self.height):\n",
        "            for j in range(self.width):\n",
        "                grid += self.grid_world[i][j]+\" \"\n",
        "            grid += \"\\n\"\n",
        "\n",
        "        print(grid)\n",
        "\n",
        "\n",
        "    def get_reward(self, state, action_idx):\n",
        "        next_state = self.state_after_action(state, action_idx)\n",
        "        return self.reward[next_state[0]][next_state[1]]\n",
        "\n",
        "\n",
        "    def state_after_action(self, state, action_idx:int):\n",
        "        action = self.action_space[action_idx]\n",
        "        row_movement, col_movement = self.actions[action]\n",
        "\n",
        "        # action에 따라 에이전트 이동\n",
        "        next_state = (state[0]+row_movement, state[1]+col_movement)\n",
        "        next_state = self.check_boundary(next_state)\n",
        "\n",
        "        return next_state\n",
        "\n",
        "\n",
        "    def check_boundary(self, state):\n",
        "        state = list(state)\n",
        "        state[0] = (0 if state[0] < 0 else self.height - 1 if state[0] > self.height - 1 else state[0])\n",
        "        state[1] = (0 if state[1] < 0 else self.width - 1 if state[1] > self.width - 1 else state[1])\n",
        "        return tuple(state)"
      ],
      "metadata": {
        "id": "wiEaAqK76G9y"
      },
      "execution_count": null,
      "outputs": []
    },
    {
      "cell_type": "markdown",
      "source": [
        "# SARSA Class\n",
        "1. 현재 상태 sₜ 에서\n",
        "2. 어떤 행동 aₜ 를 수행하고\n",
        "3. 실제로 벌어진 일:\n",
        "   - 보상 rₜ₊₁을 받고\n",
        "   - 다음 상태 sₜ₊₁로 이동하며\n",
        "   - 다음 행동 aₜ₊₁를 선택\n",
        "4. 그 결과를 바탕으로!\n",
        "5. 처음에 했던 판단 Q(sₜ , aₜ) 가 얼마나 정확했는지 되돌아보고, 아래 수식을 따라 Q값을 수정함"
      ],
      "metadata": {
        "id": "Gvc0Jr9m6xZ3"
      }
    },
    {
      "cell_type": "markdown",
      "source": [
        "$$\n",
        "Q(s_t, a_t) \\leftarrow Q(s_t, a_t) + \\alpha \\left[ r_{t+1} + \\gamma \\cdot Q(s_{t+1}, a_{t+1}) - Q(s_t, a_t) \\right]\n",
        "$$"
      ],
      "metadata": {
        "id": "M9ClodLn4xkq"
      }
    },
    {
      "cell_type": "markdown",
      "source": [
        "- 학습률 (α) : 얼마나 빠르게 학습할지\n",
        "- 할인율 (γ) : 미래 보상에 대한 신뢰도"
      ],
      "metadata": {
        "id": "xK0t8vxu40zQ"
      }
    },
    {
      "cell_type": "code",
      "source": [
        "env = GridWorldEnvironment(start_point=(0,0), # 위 환경 클래스를 상속 받아 `env.render` 코드를 구현\n",
        "                           end_point=(4,4),\n",
        "                           grid_world_size=(5,5))"
      ],
      "metadata": {
        "id": "DNnwj-jO23E4"
      },
      "execution_count": null,
      "outputs": []
    },
    {
      "cell_type": "markdown",
      "source": [
        "<에이전트 핵심 기능 3가지>\n",
        "1. Q-table 초기화 및 학습 파라미터 설정\n",
        "2. ε-greedy 정책 기반 행동 선택\n",
        "3. SARSA 업데이트 수식 적용"
      ],
      "metadata": {
        "id": "o6WJhvEM2d4E"
      }
    },
    {
      "cell_type": "code",
      "source": [
        "class SARSAAgent:\n",
        "    def __init__(self, action_space):\n",
        "        # 행동 파라미터\n",
        "        self.action_space = action_space\n",
        "        self.num_actions = len(action_space)\n",
        "\n",
        "        # 학습 파라미터\n",
        "        self.step_size = 0.01 # 학습률\n",
        "        self.discount_factor = 0.9 # 할인율\n",
        "        self.epsilon = 1.0 # 탐험율 초반에 100%\n",
        "        self.epsilon_decay = 0.999 # 탐험율 감소\n",
        "        self.epsilon_min = 0.01 # 탐험률 최소 값 설정\n",
        "\n",
        "        # 0을 초깃값으로 하는 큐함수 테이블 생성\n",
        "        self.q_table = defaultdict(lambda: np.zeros(self.num_actions).tolist())\n",
        "\n",
        "\n",
        "    def get_action(self, state): # ε-greedy 정책 기반 행동 선택\n",
        "        if np.random.rand() < self.epsilon:\n",
        "            action_idx = np.random.choice(range(self.num_actions)) # 탐험\n",
        "        else:\n",
        "            state = str(state)\n",
        "            q_list = self.q_table[state]\n",
        "            action_idx = self.argmax(q_list) # 큐함수 기반 최적 행동 선택\n",
        "\n",
        "        return action_idx\n",
        "\n",
        "\n",
        "    def argmax(self, q_list): # Q-table에 값이 같은 행동이 여러 개 있다면 랜덤으로 선택\n",
        "        max_value = np.amax(q_list)\n",
        "        max_indices = np.where(q_list == max_value)[0]\n",
        "        return np.random.choice(max_indices)\n",
        "\n",
        "\n",
        "    def update_q_table(self, state, action_idx, reward, next_state, next_action_idx):\n",
        "        if self.epsilon > self.epsilon_min:\n",
        "            self.epsilon *= self.epsilon_decay\n",
        "\n",
        "        # idx로 사용하기 위해 (n,n) 좌표로 표현된 state를 문자열로 생성\n",
        "        state, next_state = str(state), str(next_state)\n",
        "\n",
        "        # 시간차 제어로 Q-table 업데이트\n",
        "        current_q = self.q_table[state][action_idx] # Q(sₜ, aₜ)\n",
        "        next_q = self.q_table[next_state][next_action_idx] # Q(sₜ₊, aₜ₊)\n",
        "        td = reward + self.discount_factor * next_q - current_q # 시간차 오류(TD error)\n",
        "        new_q = current_q + self.step_size * td # SARSA 업데이트\n",
        "        self.q_table[state][action_idx] = new_q \t# Q-table 반영"
      ],
      "metadata": {
        "id": "hLYRJG0y6ypp"
      },
      "execution_count": null,
      "outputs": []
    },
    {
      "cell_type": "markdown",
      "source": [
        "## Main"
      ],
      "metadata": {
        "id": "7jW6ivs16zHO"
      }
    },
    {
      "cell_type": "markdown",
      "source": [
        "- **SARSA**를 이용해 그리드 월드 학습시키기  \n",
        "- 학습 지표 시각화 (에피소드마다 에이전트의 이동 횟수 시각화)"
      ],
      "metadata": {
        "id": "Kpj3a2xf7Pkz"
      }
    },
    {
      "cell_type": "code",
      "source": [
        "from collections import defaultdict\n",
        "\n",
        "agent = SARSAAgent(env.action_space)\n",
        "\n",
        "EPISODES = 1000\n",
        "RENDER_PROCESS = False # 에이전트 이동 경로 실시간 출력 여부\n",
        "RENDER_END = False # 에피소드 끝났을 때 이동 경로 출력 여부\n",
        "total_moves = []\n",
        "\n",
        "for episode in range(EPISODES):\n",
        "    # 게임 환경을 초기화\n",
        "    state = env.start_point # 시작점을 초기 상태로 설정\n",
        "    env.current_state = state # env 객체 내부의 current_state도 업데이트 (SARSAAgent와 별개)\n",
        "    env.traces = [] # traces 리스트 초기화\n",
        "    moves_cnt = 0\n",
        "\n",
        "    action_idx = agent.get_action(state) # ε-greedy 정책 기반 행동 선택\n",
        "    done = False # 로 시작! 아직 에피소드(게임)이 끝나지 않았다~\n",
        "\n",
        "    while not done:\n",
        "        # 이동 경로에 현재 상태 추가\n",
        "        env.traces.append(env.current_state)\n",
        "\n",
        "        if RENDER_PROCESS:\n",
        "            env.render() # 이동 출력\n",
        "\n",
        "        # 취한 행동에 대한 next_state를 환경의 state_after_action 메서드를 사용하여 계산\n",
        "        next_state = env.state_after_action(state, action_idx)\n",
        "\n",
        "        # next_state로 에이전트의 현재 위치 업데이트 (render 메서드에서 사용됨)\n",
        "        env.current_state = next_state\n",
        "\n",
        "        # 다음 상태에서의 보상 정보를 env.reward 리스트에서 직접 가져옴\n",
        "        reward = env.reward[next_state[0]][next_state[1]]\n",
        "\n",
        "        # 다음 상태가 끝점인지 확인하여 episode 종료 여부 결정\n",
        "        done = (next_state == env.end_point)\n",
        "\n",
        "        # 다음 상태에서 행동 선택\n",
        "        next_action_idx = agent.get_action(next_state)\n",
        "\n",
        "        # 큐함수 업데이트\n",
        "        agent.update_q_table(state, action_idx, reward, next_state, next_action_idx)\n",
        "\n",
        "        # 다음 루프에서 사용할 상태/행동 업데이트\n",
        "        state = next_state\n",
        "        action_idx = next_action_idx\n",
        "        moves_cnt += 1\n",
        "\n",
        "    env.traces.append(env.current_state) # 에피소드가 종료될 시 최종 상태 추가\n",
        "    total_moves.append(moves_cnt) # 에피소드 당 움직임 기록\n",
        "\n",
        "    if (episode+1) % 100 == 0:\n",
        "        start_index = max(0, episode - 99)\n",
        "        print(f\"[Episode]: {episode+1}/{EPISODES} __ [Num of Moves mean]:{np.mean(total_moves[start_index:]):.1f} __ [Epsilon]: {agent.epsilon:.3f}\")\n",
        "\n",
        "\n",
        "    if RENDER_END:\n",
        "        env.render()"
      ],
      "metadata": {
        "id": "bzJHw6KJ60wS",
        "colab": {
          "base_uri": "https://localhost:8080/"
        },
        "outputId": "226c4069-acf8-42c5-bea1-377122e90fb5"
      },
      "execution_count": null,
      "outputs": [
        {
          "output_type": "stream",
          "name": "stdout",
          "text": [
            "[Episode]: 100/1000 __ [Num of Moves mean]:17.2 __ [Epsilon]: 0.178\n",
            "[Episode]: 200/1000 __ [Num of Moves mean]:8.9 __ [Epsilon]: 0.073\n",
            "[Episode]: 300/1000 __ [Num of Moves mean]:8.4 __ [Epsilon]: 0.031\n",
            "[Episode]: 400/1000 __ [Num of Moves mean]:8.1 __ [Epsilon]: 0.014\n",
            "[Episode]: 500/1000 __ [Num of Moves mean]:8.1 __ [Epsilon]: 0.010\n",
            "[Episode]: 600/1000 __ [Num of Moves mean]:8.1 __ [Epsilon]: 0.010\n",
            "[Episode]: 700/1000 __ [Num of Moves mean]:8.2 __ [Epsilon]: 0.010\n",
            "[Episode]: 800/1000 __ [Num of Moves mean]:8.1 __ [Epsilon]: 0.010\n",
            "[Episode]: 900/1000 __ [Num of Moves mean]:8.1 __ [Epsilon]: 0.010\n",
            "[Episode]: 1000/1000 __ [Num of Moves mean]:8.0 __ [Epsilon]: 0.010\n"
          ]
        }
      ]
    },
    {
      "cell_type": "code",
      "source": [
        "# 마지막 학습 상황 재현\n",
        "env.render()"
      ],
      "metadata": {
        "colab": {
          "base_uri": "https://localhost:8080/"
        },
        "id": "6EVI-ETtuwJu",
        "outputId": "a307987d-bc8e-4a9d-a3a1-b9b45e0f6baf"
      },
      "execution_count": null,
      "outputs": [
        {
          "output_type": "stream",
          "name": "stdout",
          "text": [
            "S X X X . \n",
            ". . . X . \n",
            ". . . X . \n",
            ". . . X X \n",
            ". . . . A \n",
            "\n"
          ]
        }
      ]
    },
    {
      "cell_type": "code",
      "source": [
        "# 1000 에피소드에서 에이전트 이동 횟수를 시각화\n",
        "from matplotlib import pyplot as plt\n",
        "\n",
        "plt.plot(total_moves)\n",
        "plt.ylabel(\"cnt\")\n",
        "plt.xlabel(\"episodes\")\n",
        "plt.title(\"Num of Moves\")\n",
        "plt.show()"
      ],
      "metadata": {
        "colab": {
          "base_uri": "https://localhost:8080/",
          "height": 472
        },
        "id": "bXPbvEpMuxRQ",
        "outputId": "f52affa4-d4a0-45e6-bf77-8496846dca7c"
      },
      "execution_count": null,
      "outputs": [
        {
          "output_type": "display_data",
          "data": {
            "text/plain": [
              "<Figure size 640x480 with 1 Axes>"
            ],
            "image/png": "[encoded data removed]"
          },
          "metadata": {}
        }
      ]
    }
  ]
}