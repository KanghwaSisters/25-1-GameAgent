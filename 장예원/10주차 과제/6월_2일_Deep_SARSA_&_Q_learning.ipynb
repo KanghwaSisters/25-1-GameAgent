{
  "nbformat": 4,
  "nbformat_minor": 0,
  "metadata": {
    "colab": {
      "provenance": []
    },
    "kernelspec": {
      "name": "python3",
      "display_name": "Python 3"
    },
    "language_info": {
      "name": "python"
    }
  },
  "cells": [
    {
      "cell_type": "code",
      "source": [
        "import os\n",
        "os.environ[\"TORCHDYNAMO_DISABLE\"] = \"1\""
      ],
      "metadata": {
        "id": "HzUqJ7fd0THj"
      },
      "execution_count": 202,
      "outputs": []
    },
    {
      "cell_type": "markdown",
      "source": [
        "## GridWorldEnvironment\n",
        "```py\n",
        "start_point = (0,0)\n",
        "end_point = (4,4)\n",
        "gridworld_size = (5,5)\n",
        "env = GridWorldEnvironment(start_point, end_point, grid_world_size)\n",
        "```"
      ],
      "metadata": {
        "id": "hoXHmyZi5t5R"
      }
    },
    {
      "cell_type": "markdown",
      "source": [
        "## Original Code"
      ],
      "metadata": {
        "id": "dm89RWca6WOS"
      }
    },
    {
      "cell_type": "code",
      "source": [
        "import numpy as np\n",
        "from typing import Tuple\n",
        "\n",
        "class GridWorldEnvironment:\n",
        "    def __init__(self, start_point:Tuple, end_point:Tuple, grid_world_size:Tuple):\n",
        "        # 시작점과 끝점을 받는다.\n",
        "        self.start_point = start_point\n",
        "        self.end_point = end_point if end_point != (-1,-1) else (grid_world_size[0] + end_point[0],\n",
        "                                                                 grid_world_size[1] + end_point[1])\n",
        "\n",
        "        # 그리드 월드의 규격을 받는다.\n",
        "        self.width, self.height = grid_world_size\n",
        "\n",
        "        # action dictionary\n",
        "        self.action_space = ['up', 'down', 'left', 'right']\n",
        "        self.num_actions = len(self.action_space)\n",
        "        self.actions = {'up':(-1,0),\n",
        "                        'down':(1,0),\n",
        "                        'left':(0,-1),\n",
        "                        'right':(0,1) }\n",
        "\n",
        "        # 상태 : 좌표로 나타남\n",
        "        self.traces = []\n",
        "\n",
        "        # total states\n",
        "        self.total_states = []\n",
        "        for x in range(self.width):\n",
        "            for y in range(self.height):\n",
        "                self.total_states.append((x,y))\n",
        "\n",
        "        # reward\n",
        "        self.reward = np.zeros(shape=(self.height, self.width)).tolist()\n",
        "        self.reward[end_point[0]][end_point[1]] = 1\n",
        "\n",
        "\n",
        "    def render(self):\n",
        "        # 그리드 월드의 상태를 출력한다.\n",
        "        self.grid_world = np.full(shape=(self.height, self.width), fill_value=\".\").tolist()\n",
        "\n",
        "        last_point = self.traces[-1] # 에이전트가 가장 마지막에 있었던 위치\n",
        "        traces = list(set(self.traces)) # 중복된 값을 삭제하기 위함\n",
        "        for trace in traces:\n",
        "            self.grid_world[trace[0]][trace[1]] = \"X\"\n",
        "\n",
        "        self.grid_world[self.start_point[0]][self.start_point[1]] = \"S\" # start point\n",
        "        self.grid_world[self.end_point[0]][self.end_point[1]] = \"G\" # end point\n",
        "        self.grid_world[last_point[0]][last_point[1]] = \"A\" # 현재 에이전트의 위치\n",
        "\n",
        "        # string으로 출력한다.\n",
        "        grid = \"\"\n",
        "\n",
        "        for i in range(self.height):\n",
        "            for j in range(self.width):\n",
        "                grid += self.grid_world[i][j]+\" \"\n",
        "            grid += \"\\n\"\n",
        "\n",
        "        print(grid)\n",
        "\n",
        "\n",
        "    def get_reward(self, state, action_idx):\n",
        "        next_state = self.state_after_action(state, action_idx)\n",
        "        return self.reward[next_state[0]][next_state[1]]\n",
        "\n",
        "\n",
        "    def state_after_action(self, state, action_idx:int):\n",
        "        action = self.action_space[action_idx]\n",
        "        row_movement, col_movement = self.actions[action]\n",
        "\n",
        "        # action에 따라 에이전트 이동\n",
        "        next_state = (state[0]+row_movement, state[1]+col_movement)\n",
        "        next_state = self.check_boundary(next_state)\n",
        "\n",
        "        return next_state\n",
        "\n",
        "\n",
        "    def check_boundary(self, state):\n",
        "        state = list(state)\n",
        "        state[0] = (0 if state[0] < 0 else self.height - 1 if state[0] > self.height - 1 else state[0])\n",
        "        state[1] = (0 if state[1] < 0 else self.width - 1 if state[1] > self.width - 1 else state[1])\n",
        "        return tuple(state)"
      ],
      "metadata": {
        "id": "wiEaAqK76G9y"
      },
      "execution_count": 203,
      "outputs": []
    },
    {
      "cell_type": "markdown",
      "source": [
        "# Deep SARSA Class\n",
        "1. 현재 상태 sₜ 에서\n",
        "2. 어떤 행동 aₜ 를 수행하고\n",
        "3. 실제로 벌어진 일:\n",
        "   - 보상 rₜ₊₁을 받고\n",
        "   - 다음 상태 sₜ₊₁로 이동하며\n",
        "   - 다음 행동 aₜ₊₁를 선택\n",
        "4. 그 결과를 바탕으로!\n",
        "5. 다음 상태에서의 Q(sₜ₊₁, aₜ₊)를 신경망으로 추정하고, 목표값 target을 계산"
      ],
      "metadata": {
        "id": "Gvc0Jr9m6xZ3"
      }
    },
    {
      "cell_type": "markdown",
      "source": [
        "$$\n",
        "\\text{target} = r_{t+1} + \\gamma \\cdot Q(s_{t+1}, a_{t+1})\n",
        "$$\n",
        "\n",
        "\n"
      ],
      "metadata": {
        "id": "5vFt4VmoD7uC"
      }
    },
    {
      "cell_type": "markdown",
      "source": [
        "6. 처음에 했던 판단 Q(sₜ , aₜ)과 target의 차이로 손실을 계산하고, 신경망을 업데이트"
      ],
      "metadata": {
        "id": "8mQaRblDEA_w"
      }
    },
    {
      "cell_type": "markdown",
      "source": [
        "$$\n",
        "\\text{loss} = \\text{MSE}(Q(s_t, a_t),\\ \\text{target})\n",
        "$$"
      ],
      "metadata": {
        "id": "92up_CvREE9d"
      }
    },
    {
      "cell_type": "markdown",
      "source": [
        "-> 이 손실을 줄이기 위해 **역전파**를 사용하여 신경망의 파라미터를 조정!"
      ],
      "metadata": {
        "id": "gmEOHZ7NEHrW"
      }
    },
    {
      "cell_type": "code",
      "source": [
        "import random\n",
        "import torch\n",
        "import torch.nn as nn\n",
        "import torch.nn.functional as F"
      ],
      "metadata": {
        "id": "oOKVP9D9uUom"
      },
      "execution_count": 204,
      "outputs": []
    },
    {
      "cell_type": "code",
      "source": [
        "from google.colab import drive\n",
        "drive.mount('/content/drive')"
      ],
      "metadata": {
        "colab": {
          "base_uri": "https://localhost:8080/"
        },
        "id": "N6T5QYSdzYiY",
        "outputId": "d5d9ed74-c7cd-416d-f2a0-5cd0aa960b68"
      },
      "execution_count": 205,
      "outputs": [
        {
          "output_type": "stream",
          "name": "stdout",
          "text": [
            "Drive already mounted at /content/drive; to attempt to forcibly remount, call drive.mount(\"/content/drive\", force_remount=True).\n"
          ]
        }
      ]
    },
    {
      "cell_type": "code",
      "source": [
        "env = GridWorldEnvironment(start_point=(0,0), #위 환경 클래스를 상속 받아 `env.render` 코드를 구현\n",
        "                           end_point=(4,4),\n",
        "                           grid_world_size=(5,5))"
      ],
      "metadata": {
        "id": "DNnwj-jO23E4"
      },
      "execution_count": 206,
      "outputs": []
    },
    {
      "cell_type": "code",
      "source": [
        "class DeepSARSA(nn.Module):\n",
        "    def __init__(self, state_size, action_size):\n",
        "        super().__init__()\n",
        "        self.fc1 = nn.Linear(state_size, 64)\n",
        "        self.fc2 = nn.Linear(64, 64)\n",
        "        self.fc3 = nn.Linear(64, action_size)\n",
        "\n",
        "\n",
        "    def forward(self, x):\n",
        "        x = F.relu(self.fc1(x))\n",
        "        x = F.relu(self.fc2(x))\n",
        "        return self.fc3(x)"
      ],
      "metadata": {
        "id": "hLYRJG0y6ypp"
      },
      "execution_count": 207,
      "outputs": []
    },
    {
      "cell_type": "code",
      "source": [
        "class DeepSARSAAgent:\n",
        "    def __init__(self, state_size, action_space):\n",
        "        self.action_space = action_space\n",
        "        self.num_actions = len(action_space)\n",
        "        self.discount_factor = 0.9\n",
        "        self.epsilon = 1.0\n",
        "        self.epsilon_decay = 0.999\n",
        "        self.epsilon_min = 0.1\n",
        "        self.learning_rate = 0.001\n",
        "\n",
        "        self.model = DeepSARSA(state_size, self.num_actions)\n",
        "        self.optimizer = torch.optim.Adam(self.model.parameters(), lr=self.learning_rate)\n",
        "        self.loss_fn = nn.MSELoss()\n",
        "\n",
        "\n",
        "    def get_action(self, state):\n",
        "        if np.random.rand() < self.epsilon:\n",
        "            return random.randint(0, self.num_actions - 1)\n",
        "        else:\n",
        "            state_tensor = torch.tensor(state, dtype=torch.float32).unsqueeze(0)\n",
        "            with torch.no_grad():\n",
        "                q_values = self.model(state_tensor)\n",
        "            return torch.argmax(q_values).item()\n",
        "\n",
        "\n",
        "    def train(self, state, action, reward, next_state, next_action, done):\n",
        "        state_tensor = torch.tensor(state, dtype=torch.float32).unsqueeze(0)\n",
        "        next_state_tensor = torch.tensor(next_state, dtype=torch.float32).unsqueeze(0)\n",
        "\n",
        "        q_values = self.model(state_tensor)\n",
        "        q_value = q_values[0, action]\n",
        "\n",
        "        with torch.no_grad():\n",
        "            next_q_values = self.model(next_state_tensor)\n",
        "            next_q_value = next_q_values[0, next_action]\n",
        "            target = reward + (0 if done else self.discount_factor * next_q_value)\n",
        "            target = torch.tensor(target, dtype=q_value.dtype)\n",
        "\n",
        "        loss = self.loss_fn(q_value.unsqueeze(0), target.unsqueeze(0))\n",
        "        self.optimizer.zero_grad()\n",
        "        loss.backward()\n",
        "        self.optimizer.step()\n",
        "\n",
        "        if self.epsilon > self.epsilon_min:\n",
        "            self.epsilon *= self.epsilon_decay"
      ],
      "metadata": {
        "id": "Os1O_dPJt1bb"
      },
      "execution_count": 208,
      "outputs": []
    },
    {
      "cell_type": "markdown",
      "source": [
        "## Main"
      ],
      "metadata": {
        "id": "7jW6ivs16zHO"
      }
    },
    {
      "cell_type": "markdown",
      "source": [
        "- **Deep SARSA**를 이용해 그리드 월드 학습시키기  \n",
        "- 학습 지표 시각화 (에피소드마다 에이전트의 이동 횟수 시각화)"
      ],
      "metadata": {
        "id": "Kpj3a2xf7Pkz"
      }
    },
    {
      "cell_type": "code",
      "source": [
        "agent = DeepSARSAAgent(state_size=2, action_space=env.action_space)\n",
        "\n",
        "EPISODES = 1000\n",
        "RENDER_PROCESS = False\n",
        "RENDER_END = False\n",
        "total_moves = []\n",
        "\n",
        "for episode in range(EPISODES):\n",
        "    state = env.start_point\n",
        "    env.current_state = state\n",
        "    env.traces = []\n",
        "\n",
        "    state_array = np.array(state, dtype=np.float32)\n",
        "    action_idx = agent.get_action(state_array)\n",
        "\n",
        "    moves_cnt = 0\n",
        "    done = False\n",
        "\n",
        "    while not done:\n",
        "        if RENDER_PROCESS:\n",
        "            env.render()\n",
        "\n",
        "        env.traces.append(env.current_state)\n",
        "\n",
        "        next_state = env.state_after_action(state, action_idx)\n",
        "        env.current_state = next_state\n",
        "\n",
        "        reward = env.reward[next_state[0]][next_state[1]]\n",
        "        done = (next_state == env.end_point)\n",
        "\n",
        "        next_state_array = np.array(next_state, dtype=np.float32)\n",
        "        next_action_idx = agent.get_action(next_state_array)\n",
        "\n",
        "        agent.train(state_array, action_idx, reward, next_state_array, next_action_idx, done)\n",
        "\n",
        "        state = next_state\n",
        "        state_array = next_state_array\n",
        "        action_idx = next_action_idx\n",
        "        moves_cnt += 1\n",
        "\n",
        "    env.traces.append(env.current_state)\n",
        "    total_moves.append(moves_cnt)\n",
        "\n",
        "    if (episode+1) % 100 == 0:\n",
        "        print(f\"[Episode]: {episode+1}/{EPISODES} __ [Num of Moves mean]:{np.mean(total_moves[episode-99:]):.1f} __ [Epsilon]: {agent.epsilon:.3f}\")\n",
        "\n",
        "    if RENDER_END:\n",
        "        env.render()"
      ],
      "metadata": {
        "colab": {
          "base_uri": "https://localhost:8080/"
        },
        "id": "SK6tXU51t_hT",
        "outputId": "234d16ca-c5a6-4aaf-b9aa-ad6266353c6c"
      },
      "execution_count": 209,
      "outputs": [
        {
          "output_type": "stream",
          "name": "stderr",
          "text": [
            "<ipython-input-208-e7652315a695>:37: UserWarning: To copy construct from a tensor, it is recommended to use sourceTensor.clone().detach() or sourceTensor.clone().detach().requires_grad_(True), rather than torch.tensor(sourceTensor).\n",
            "  target = torch.tensor(target, dtype=q_value.dtype)\n"
          ]
        },
        {
          "output_type": "stream",
          "name": "stdout",
          "text": [
            "[Episode]: 100/1000 __ [Num of Moves mean]:16.6 __ [Epsilon]: 0.191\n",
            "[Episode]: 200/1000 __ [Num of Moves mean]:9.3 __ [Epsilon]: 0.100\n",
            "[Episode]: 300/1000 __ [Num of Moves mean]:8.7 __ [Epsilon]: 0.100\n",
            "[Episode]: 400/1000 __ [Num of Moves mean]:8.9 __ [Epsilon]: 0.100\n",
            "[Episode]: 500/1000 __ [Num of Moves mean]:9.2 __ [Epsilon]: 0.100\n",
            "[Episode]: 600/1000 __ [Num of Moves mean]:8.8 __ [Epsilon]: 0.100\n",
            "[Episode]: 700/1000 __ [Num of Moves mean]:9.0 __ [Epsilon]: 0.100\n",
            "[Episode]: 800/1000 __ [Num of Moves mean]:8.9 __ [Epsilon]: 0.100\n",
            "[Episode]: 900/1000 __ [Num of Moves mean]:8.9 __ [Epsilon]: 0.100\n",
            "[Episode]: 1000/1000 __ [Num of Moves mean]:8.8 __ [Epsilon]: 0.100\n"
          ]
        }
      ]
    },
    {
      "cell_type": "code",
      "source": [
        "# 마지막 결과 렌더링\n",
        "env.render()"
      ],
      "metadata": {
        "colab": {
          "base_uri": "https://localhost:8080/"
        },
        "id": "6vIqB0E275AS",
        "outputId": "0e84d7a4-60ec-4481-90cb-87b39f12cd05"
      },
      "execution_count": 210,
      "outputs": [
        {
          "output_type": "stream",
          "name": "stdout",
          "text": [
            "S X X . . \n",
            ". . X . . \n",
            ". . X X . \n",
            ". . . X X \n",
            ". . . . A \n",
            "\n"
          ]
        }
      ]
    },
    {
      "cell_type": "code",
      "source": [
        "import matplotlib.pyplot as plt"
      ],
      "metadata": {
        "id": "lHOCWgOKubvm"
      },
      "execution_count": 211,
      "outputs": []
    },
    {
      "cell_type": "code",
      "source": [
        "# 학습 후 최종 이동 결과 시각화\n",
        "plt.plot(total_moves)\n",
        "plt.ylabel(\"cnt\")\n",
        "plt.xlabel(\"episodes\")\n",
        "plt.title(\"Num of Moves\")\n",
        "plt.show()"
      ],
      "metadata": {
        "colab": {
          "base_uri": "https://localhost:8080/",
          "height": 472
        },
        "id": "w05W5cVJuCzD",
        "outputId": "1b88cc47-bd49-45e4-eef3-92f18abc1115"
      },
      "execution_count": 212,
      "outputs": [
        {
          "output_type": "display_data",
          "data": {
            "text/plain": [
              "<Figure size 640x480 with 1 Axes>"
            ],
            "image/png": "[encoded data removed]"
          },
          "metadata": {}
        }
      ]
    },
    {
      "cell_type": "markdown",
      "source": [
        "---"
      ],
      "metadata": {
        "id": "biV8MCMK_bam"
      }
    },
    {
      "cell_type": "markdown",
      "source": [
        "# Q-learning Class\n",
        "1. 현재 상태 sₜ 에서\n",
        "2. 어떤 행동 aₜ 를 수행하고\n",
        "3. 실제로 벌어진 일:\n",
        "   - 보상 rₜ₊₁을 받고\n",
        "   - 다음 상태 sₜ₊₁로 이동\n",
        "4.  sₜ₊₁에서 가장 좋은 행동의 가치 max Q(sₜ₊₁, a)를 계산함 (이게 Q-learning의 핵심: 다음 행동은 직접 하지 않고 최대값만 참조)\n",
        "5. 그 결과를 바탕으로!\n",
        "6. 처음에 했던 판단 Q(sₜ, aₜ)이 얼마나 정확했는지 되돌아보고, 아래 수식을 따라 Q값을 수정"
      ],
      "metadata": {
        "id": "8lcAueBB_kzY"
      }
    },
    {
      "cell_type": "markdown",
      "source": [
        "$$\n",
        "Q(s_t, a_t) \\leftarrow Q(s_t, a_t) + \\alpha \\left[ r_{t+1} + \\gamma \\max_a Q(s_{t+1}, a) - Q(s_t, a_t) \\right]\n",
        "$$"
      ],
      "metadata": {
        "id": "MclLzIbAE7yp"
      }
    },
    {
      "cell_type": "code",
      "source": [
        "env = GridWorldEnvironment(start_point=(0,0), #위 환경 클래스를 상속 받아 `env.render` 코드를 구현\n",
        "                           end_point=(4,4),\n",
        "                           grid_world_size=(5,5))"
      ],
      "metadata": {
        "id": "lgA9GtWJIcqq"
      },
      "execution_count": 225,
      "outputs": []
    },
    {
      "cell_type": "code",
      "source": [
        "from collections import defaultdict"
      ],
      "metadata": {
        "id": "bSiPg55bPnRF"
      },
      "execution_count": 226,
      "outputs": []
    },
    {
      "cell_type": "code",
      "source": [
        "class QlearningAgent:\n",
        "    def __init__(self, action_space):\n",
        "        # 행동에 관한 파라미터\n",
        "        self.action_space = action_space\n",
        "        self.num_actions = len(action_space)\n",
        "\n",
        "        # 학습에 관련된 파라미터\n",
        "        self.step_size = 0.01\n",
        "        self.discount_factor = 0.9\n",
        "        self.epsilon = 1.0\n",
        "        self.epsilon_decay = 0.995\n",
        "        self.epsilon_min = 0.01\n",
        "\n",
        "        # 0을 초깃값으로 하는 큐함수 테이블 생성\n",
        "        self.q_table = defaultdict(lambda: np.zeros(self.num_actions))\n",
        "\n",
        "\n",
        "    def update_q_table(self, state, action_idx, reward, next_state):\n",
        "        if self.epsilon > self.epsilon_min:\n",
        "            self.epsilon *= self.epsilon_decay\n",
        "\n",
        "        state = tuple(state)\n",
        "        next_state = tuple(next_state)\n",
        "\n",
        "        # 벨만 최적 방정식을 사용한 큐함수 업데이트\n",
        "        q_1 = self.q_table[state][action_idx]\n",
        "        q_2 = reward + self.discount_factor * max(self.q_table[next_state])\n",
        "        self.q_table[state][action_idx] += self.step_size * (q_2 - q_1)\n",
        "\n",
        "\n",
        "    def get_action(self, state):\n",
        "        '''\n",
        "        입실론 탐욕 정책(ε-greedy policy)을 통해 행동을 반환한다.\n",
        "        '''\n",
        "        state = tuple(state)\n",
        "        # 0을 초깃값으로 하는 큐함수 테이블 생성\n",
        "        if np.random.rand() < self.epsilon:\n",
        "           return np.random.choice(range(self.num_actions))\n",
        "        else:\n",
        "            # 큐 함수에 따른 행동\n",
        "            q_list = self.q_table[state]\n",
        "            return self.argmax(q_list)\n",
        "\n",
        "\n",
        "    def argmax(self, q_list):\n",
        "        '''\n",
        "        np.argmax를 사용하지 않고 별도의 매소드를 사용하는 이유\n",
        "        Q-table에 값이 같은 action이 여러 개가 있다면,\n",
        "        그중에서 랜덤으로 선택해야 하기 때문이다.\n",
        "        '''\n",
        "        max_value = np.amax(q_list)\n",
        "        max_indices = np.where(q_list == max_value)[0]\n",
        "        return random.choice(max_indices)\n"
      ],
      "metadata": {
        "id": "LRQy6jbP_kzc"
      },
      "execution_count": 233,
      "outputs": []
    },
    {
      "cell_type": "markdown",
      "source": [
        "## Main"
      ],
      "metadata": {
        "id": "eQJyyQgX_kzc"
      }
    },
    {
      "cell_type": "markdown",
      "source": [
        "\n",
        "- **Q-learning**를 이용해 그리드 월드 학습시키기  \n",
        "- 학습 지표 시각화 (에피소드마다 에이전트의 이동 횟수 시각화)"
      ],
      "metadata": {
        "id": "SHn74SR5_kzc"
      }
    },
    {
      "cell_type": "code",
      "source": [
        "agent = QlearningAgent(env.action_space)\n",
        "\n",
        "EPISODES = 1000\n",
        "RENDER_PROCESS = False\n",
        "RENDER_END = False\n",
        "total_moves = []"
      ],
      "metadata": {
        "id": "dYx--quI_kzc"
      },
      "execution_count": 234,
      "outputs": []
    },
    {
      "cell_type": "code",
      "source": [
        "for episode in range(EPISODES):\n",
        "    state = env.start_point\n",
        "    env.current_state = state\n",
        "    env.traces = []\n",
        "\n",
        "    moves_cnt = 0\n",
        "    done = False\n",
        "\n",
        "    while not done:\n",
        "        if RENDER_PROCESS:\n",
        "            env.render() # 이동을 출력하기\n",
        "\n",
        "        env.traces.append(state)  # 이동 경로 기록\n",
        "\n",
        "        # 현재 상태에 대한 행동 선택\n",
        "        action_idx = agent.get_action(np.array(state, dtype=np.float32))      # 현재 상태에서 행동 선택\n",
        "        next_state = env.state_after_action(state, action_idx)              # 현재 상태에서 행동 선택\n",
        "        reward = env.reward[next_state[0]][next_state[1]]                 # 보상 획득\n",
        "        done = (next_state == env.end_point)                              # 종료 조건 판단\n",
        "\n",
        "        agent.update_q_table(state, action_idx, reward, next_state)      # Q-table 업데이트\n",
        "\n",
        "        state = next_state\n",
        "        moves_cnt += 1\n",
        "\n",
        "    total_moves.append(moves_cnt)\n",
        "\n",
        "    if (episode+1) % 100 == 0:\n",
        "      recent = total_moves[-100:]  # 마지막 100개만 기준\n",
        "      print(f\"[Episode]: {episode+1}/{EPISODES} __ [Moves avg]:{np.mean(recent):.1f}  min:{np.min(recent)}  max:{np.max(recent)} __ [Epsilon]: {agent.epsilon:.3f}\")\n",
        "\n",
        "    env.current_state = state  # 마지막 위치로 확정\n",
        "    if RENDER_END:\n",
        "        env.render()"
      ],
      "metadata": {
        "colab": {
          "base_uri": "https://localhost:8080/"
        },
        "id": "FzE9L8Katkzh",
        "outputId": "4cd630ad-ea83-47c9-9a96-a4d495bd800c"
      },
      "execution_count": 235,
      "outputs": [
        {
          "output_type": "stream",
          "name": "stdout",
          "text": [
            "[Episode]: 100/1000 __ [Moves avg]:11.8  min:8  max:107 __ [Epsilon]: 0.010\n",
            "[Episode]: 200/1000 __ [Moves avg]:8.1  min:8  max:10 __ [Epsilon]: 0.010\n",
            "[Episode]: 300/1000 __ [Moves avg]:8.1  min:8  max:14 __ [Epsilon]: 0.010\n",
            "[Episode]: 400/1000 __ [Moves avg]:8.1  min:8  max:12 __ [Epsilon]: 0.010\n",
            "[Episode]: 500/1000 __ [Moves avg]:8.1  min:8  max:10 __ [Epsilon]: 0.010\n",
            "[Episode]: 600/1000 __ [Moves avg]:8.0  min:8  max:10 __ [Epsilon]: 0.010\n",
            "[Episode]: 700/1000 __ [Moves avg]:8.0  min:8  max:10 __ [Epsilon]: 0.010\n",
            "[Episode]: 800/1000 __ [Moves avg]:8.1  min:8  max:10 __ [Epsilon]: 0.010\n",
            "[Episode]: 900/1000 __ [Moves avg]:8.0  min:8  max:10 __ [Epsilon]: 0.010\n",
            "[Episode]: 1000/1000 __ [Moves avg]:8.1  min:8  max:12 __ [Epsilon]: 0.010\n"
          ]
        }
      ]
    },
    {
      "cell_type": "code",
      "source": [
        "print(\"Last episode moves:\", moves_cnt)"
      ],
      "metadata": {
        "colab": {
          "base_uri": "https://localhost:8080/"
        },
        "id": "LfD4l04ial0D",
        "outputId": "be26da61-2ec1-4acc-b2f4-a23c440da07f"
      },
      "execution_count": 236,
      "outputs": [
        {
          "output_type": "stream",
          "name": "stdout",
          "text": [
            "Last episode moves: 8\n"
          ]
        }
      ]
    },
    {
      "cell_type": "code",
      "source": [
        "# 마지막 학습 상황을 재현한다.\n",
        "env.render()"
      ],
      "metadata": {
        "colab": {
          "base_uri": "https://localhost:8080/"
        },
        "id": "OWOAlSy4tpRm",
        "outputId": "ad1cdbab-5652-4a01-c9a8-300f4a510b06"
      },
      "execution_count": 237,
      "outputs": [
        {
          "output_type": "stream",
          "name": "stdout",
          "text": [
            "S X . . . \n",
            ". X X . . \n",
            ". . X X X \n",
            ". . . . A \n",
            ". . . . G \n",
            "\n"
          ]
        }
      ]
    },
    {
      "cell_type": "code",
      "source": [
        "# 1000 에피소드에서 에이전트의 이동 횟수를 시각화\n",
        "plt.plot(total_moves)\n",
        "plt.ylabel(\"cnt\")\n",
        "plt.xlabel(\"episodes\")\n",
        "plt.title(\"Num of Moves\")\n",
        "plt.show()"
      ],
      "metadata": {
        "colab": {
          "base_uri": "https://localhost:8080/",
          "height": 472
        },
        "id": "Mx7qfjDatssT",
        "outputId": "89c53a35-e316-4856-ce05-14149878f91d"
      },
      "execution_count": 238,
      "outputs": [
        {
          "output_type": "display_data",
          "data": {
            "text/plain": [
              "<Figure size 640x480 with 1 Axes>"
            ],
            "image/png": "[encoded data removed]"
          },
          "metadata": {}
        }
      ]
    }
  ]
}