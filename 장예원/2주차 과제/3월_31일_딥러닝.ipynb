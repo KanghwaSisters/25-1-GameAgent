{
  "nbformat": 4,
  "nbformat_minor": 0,
  "metadata": {
    "colab": {
      "provenance": []
    },
    "kernelspec": {
      "name": "python3",
      "display_name": "Python 3"
    },
    "language_info": {
      "name": "python"
    }
  },
  "cells": [
    {
      "cell_type": "markdown",
      "source": [
        "## 딥러닝 실습 과제 2주차 - CNN을 활용하여 보드 전체를 입력받아 9칸 상태 예측\n",
        "\n",
        "다음  세 가지 활동을 해봅시다.\n",
        "\n",
        "01. **모델 설계**: CNN 기반 분류 모델 활용\n",
        "02. **손실 함수 정의**: 각 칸에 대해 3-클래스 분류\n",
        "03. **학습 및 평가**: 시각화 함수, 정확도 측정, confusion matrix 등"
      ],
      "metadata": {
        "id": "_vECysj7UNoM"
      }
    },
    {
      "cell_type": "markdown",
      "source": [
        "TTTDataset.zip을 불러와 문제에서 요하는 코드를 구현하세요.\n",
        "\n",
        "💡 **데이터 구조**  \n",
        "- **`image_black`** : 이미지 데이터  \n",
        "- **`labels`** : 타겟 데이터  "
      ],
      "metadata": {
        "id": "s3_fdD7Y2iY4"
      }
    },
    {
      "cell_type": "code",
      "source": [
        "from google.colab import drive\n",
        "drive.mount('/content/drive')"
      ],
      "metadata": {
        "colab": {
          "base_uri": "https://localhost:8080/"
        },
        "id": "8BJKliYMHk2q",
        "outputId": "d852e7e6-870c-45bc-8a28-043d65457c79"
      },
      "execution_count": 1,
      "outputs": [
        {
          "output_type": "stream",
          "name": "stdout",
          "text": [
            "Mounted at /content/drive\n"
          ]
        }
      ]
    },
    {
      "cell_type": "code",
      "source": [
        "import torch\n",
        "from torch.utils.data import Dataset, DataLoader, random_split\n",
        "from torchvision import transforms\n",
        "from PIL import Image\n",
        "import json\n",
        "import glob\n",
        "import os"
      ],
      "metadata": {
        "id": "BhRH2q-fV8lc"
      },
      "execution_count": 2,
      "outputs": []
    },
    {
      "cell_type": "markdown",
      "source": [
        "## 00. 클래스\n",
        "정의한 클래스를 이용해 실행해 주세요."
      ],
      "metadata": {
        "id": "MCpJfLtnagvV"
      }
    },
    {
      "cell_type": "code",
      "source": [
        "class TTTDataset(Dataset):\n",
        "    def __init__(self, image_paths, label_paths, transform=None):\n",
        "        \"\"\"\n",
        "        틱택토 데이터셋을 PyTorch Dataset 형태로 변환.\n",
        "        :param image_paths: 이미지 파일 경로 리스트\n",
        "        :param label_paths: 레이블 JSON 파일 경로 리스트\n",
        "        :param transform: 이미지 전처리 변환\n",
        "        \"\"\"\n",
        "        self.image_paths = image_paths\n",
        "        self.label_paths = label_paths\n",
        "        self.transform = transform\n",
        "        self.data = self._load_data()\n",
        "\n",
        "\n",
        "    def _load_data(self):\n",
        "        \"\"\" 이미지 & 레이블 로드 \"\"\"\n",
        "        data = []\n",
        "        for img_path, lbl_path in zip(self.image_paths, self.label_paths):\n",
        "            # 이미지를 흑백(Grayscale)로 변환\n",
        "            image = Image.open(img_path).convert(\"L\")  # \"RGB\" 대신 \"L\" 사용\n",
        "\n",
        "            # JSON 레이블 로드\n",
        "            with open(lbl_path, 'r') as f:\n",
        "                labels = json.load(f)\n",
        "\n",
        "            # 레이블을 숫자로 변환 (O=1, X=-1, blank=0)\n",
        "            label_tensor = torch.tensor(\n",
        "                [1 if v == \"O\" else -1 if v == \"X\" else 0 for v in labels.values()],\n",
        "                dtype=torch.float32\n",
        "            )\n",
        "            data.append((image, label_tensor))\n",
        "\n",
        "        return data\n",
        "\n",
        "\n",
        "    def __len__(self):\n",
        "        \"\"\" 데이터셋 크기 반환 \"\"\"\n",
        "        return len(self.data)\n",
        "\n",
        "\n",
        "    def __getitem__(self, idx):\n",
        "        \"\"\" 데이터셋에서 idx 번째 샘플(이미지 & 레이블)을 가져오는 역할 \"\"\"\n",
        "        image, label = self.data[idx]\n",
        "\n",
        "        if self.transform:\n",
        "            image = self.transform(image)\n",
        "\n",
        "        return image, label"
      ],
      "metadata": {
        "id": "Ymwd8gfCYHiq"
      },
      "execution_count": 3,
      "outputs": []
    },
    {
      "cell_type": "code",
      "source": [
        "# 압축 파일 풀기\n",
        "zip_path = \"/content/drive/MyDrive/TTTDataset.zip\"\n",
        "extract_path = \"/content/TTTDataset\"\n",
        "\n",
        "if not os.path.exists(extract_path):\n",
        "    !unzip -q \"{zip_path}\" -d \"/content/\"\n",
        "    print(\" 압축 해제 완료!\")\n",
        "else:\n",
        "    print(\" 이미 압축이 풀려 있으므로 건너뜁니다.\")"
      ],
      "metadata": {
        "id": "kYqOL0NrIfEW",
        "colab": {
          "base_uri": "https://localhost:8080/"
        },
        "outputId": "743d4ead-b432-4875-9a7d-e9a2a3a29d65"
      },
      "execution_count": 4,
      "outputs": [
        {
          "output_type": "stream",
          "name": "stdout",
          "text": [
            " 압축 해제 완료!\n"
          ]
        }
      ]
    },
    {
      "cell_type": "code",
      "source": [
        "# 이미지 및 레이블 디렉토리 경로 설정\n",
        "image_dir = \"/content/TTTDataset/image_black\"\n",
        "label_dir = \"/content/TTTDataset/labels\"\n",
        "\n",
        "# 이미지와 라벨 파일 자동 수집 (확장자가 .jpg 또는 .JPG인 점 확인)\n",
        "image_paths = sorted(glob.glob(os.path.join(image_dir, \"*.jpg\")) +\n",
        "                     glob.glob(os.path.join(image_dir, \"*.JPG\")))\n",
        "\n",
        "label_paths = sorted(glob.glob(os.path.join(label_dir, \"*.json\")))\n",
        "\n",
        "transform = transforms.Compose([\n",
        "    transforms.Resize((128, 128)),\n",
        "    transforms.ToTensor(), # 픽셀값을 텐서로 변환 (0~1로 자동 스케일링됨)\n",
        "    transforms.Normalize(mean=[0.5], std=[0.5])\n",
        "])\n",
        "\n",
        "# Dataset 생성\n",
        "dataset = TTTDataset(image_paths, label_paths, transform=transform)\n",
        "\n",
        "# 전체 데이터 크기 기준 분할 비율 설정 (예: 70% train, 15% val, 15% test)\n",
        "total_size = len(dataset)\n",
        "train_size = int(0.7 * total_size)\n",
        "val_size = int(0.15 * total_size)\n",
        "test_size = total_size - train_size - val_size\n",
        "\n",
        "# 데이터 분할\n",
        "train_dataset, val_dataset, test_dataset = random_split(dataset, [train_size, val_size, test_size])\n",
        "\n",
        "# 각각에 대한 데이터로더 생성\n",
        "train_loader = DataLoader(train_dataset, batch_size=32, shuffle=True)\n",
        "val_loader = DataLoader(val_dataset, batch_size=32, shuffle=False)\n",
        "test_loader = DataLoader(test_dataset, batch_size=32, shuffle=False)"
      ],
      "metadata": {
        "id": "Ue-8ZaunXd1q"
      },
      "execution_count": 5,
      "outputs": []
    },
    {
      "cell_type": "markdown",
      "source": [
        "## 01. 모델 설계: CNN 기반 분류 모델 활용\n",
        "- 입력: 틱택토 보드 전체 이미지 (예: 128x128)\n",
        "- 출력: 9개의 상태(각 칸마다 O, X, blank 중 하나)"
      ],
      "metadata": {
        "id": "seQgBNd9aZNk"
      }
    },
    {
      "cell_type": "code",
      "source": [
        "import torch.nn as nn\n",
        "import torch.optim as optim\n",
        "import matplotlib.pyplot as plt"
      ],
      "metadata": {
        "id": "8KvefRQ4XhtC"
      },
      "execution_count": 6,
      "outputs": []
    },
    {
      "cell_type": "code",
      "source": [
        "class TicTacToeCNN(nn.Module):\n",
        "    def __init__(self):\n",
        "        # super(): CNN class의 부모 class인 nn.Module을 초기화\n",
        "        super(TicTacToeCNN, self).__init__()\n",
        "\n",
        "        # 첫번째 층\n",
        "        self.layer1 = nn.Sequential(\n",
        "            # Convolution Layer: 1채널 입력을 32채널 특징맵(feature map)으로 변환\n",
        "            nn.Conv2d(in_channels=1, out_channels=32, kernel_size=3, padding=1),  # (B, 1, 128, 128) → (B, 16, 128, 128)\n",
        "            # 비선형 활성함수\n",
        "            nn.ReLU(),\n",
        "            # Pooling Layer: 크기 절반으로 축소\n",
        "            nn.MaxPool2d(kernel_size=2, stride=2))            # (B, 32, 64, 64)\n",
        "\n",
        "        # 두번째 층\n",
        "        self.layer2 = nn.Sequential(\n",
        "            nn.Conv2d(in_channels=32, out_channels=64, kernel_size=3, padding=1),\n",
        "            nn.ReLU(),\n",
        "            nn.MaxPool2d(kernel_size=2, stride=2))              # (B, 64, 32, 32)\n",
        "\n",
        "        # 세번째 층\n",
        "        self.layer3= nn.Sequential(\n",
        "            nn.Conv2d(in_channels=64, out_channels=128, kernel_size=3, padding=1),\n",
        "            nn.ReLU(),\n",
        "            nn.AdaptiveAvgPool2d((1, 1))    # (B, 128, 1, 1)\n",
        "        )\n",
        "\n",
        "        # Fully-connected Layer: 칸 별로 3-클래스 점수 출력\n",
        "        self.fc_layer = nn.Sequential(\n",
        "            nn.Linear(128, 256),   # 중간 hidden layer 추가\n",
        "            nn.ReLU(),\n",
        "            nn.Dropout(0.1),\n",
        "            nn.Linear(256, 128),\n",
        "            nn.ReLU(),\n",
        "            nn.Linear(128, 9 * 3))   # 128차원 백터 -> 27개 출력 (9칸 × 각 칸 당 3-클래스)\n",
        "\n",
        "\n",
        "    def forward(self, x):\n",
        "        x = self.layer1(x)              # (B, 16, 64, 64)\n",
        "        x = self.layer2(x)              # (B, 32, 32, 32)\n",
        "        x = self.layer3(x)              # (B, 64, 1, 1)\n",
        "        x = x.view(x.size(0), -1)       # (B, 64)\n",
        "        x = self.fc_layer(x)            # (B, 27)\n",
        "        return x.view(-1, 9, 3)         # (B, 9, 3)"
      ],
      "metadata": {
        "id": "misG2sDL1pj1"
      },
      "execution_count": 7,
      "outputs": []
    },
    {
      "cell_type": "markdown",
      "source": [
        "## 02. 손실 함수 정의: 각 칸에 대해 3-클래스 분류\n",
        "- 다중 클래스 분류이므로 CrossEntropyLoss 사용 가능\n",
        "- 9개 칸을 각각 분류하는 방식으로 모델 구성"
      ],
      "metadata": {
        "id": "DYVGt8R27tXu"
      }
    },
    {
      "cell_type": "code",
      "source": [
        "device = torch.device(\"cuda\" if torch.cuda.is_available() else \"cpu\")\n",
        "# 모델 객체 선언\n",
        "model = TicTacToeCNN().to(device)\n",
        "\n",
        "# 손실 함수 정의 (다중 클래스 분류)\n",
        "criterion = nn.CrossEntropyLoss()\n",
        "# 최적화 알고리즘 정의\n",
        "optimizer = torch.optim.Adam(model.parameters(), lr=0.001)"
      ],
      "metadata": {
        "id": "aHRXEG9NB4kX"
      },
      "execution_count": 8,
      "outputs": []
    },
    {
      "cell_type": "markdown",
      "source": [
        "## 03. 학습 및 평가: 시각화 함수, 정확도 측정, confusion matrix 등\n",
        "- 학습 데이터로 모델을 훈련하고, 정확도 측정\n",
        "- 예측이 잘 되는지 시각화하여 분석"
      ],
      "metadata": {
        "id": "ugSpuxB27va_"
      }
    },
    {
      "cell_type": "code",
      "source": [
        "# 전처리 함수 정의\n",
        "def preprocess_batch(images, labels):\n",
        "    images = images.to(device)\n",
        "    labels = labels.to(device)\n",
        "    # CrossEntropy는 정수 클래스 (0, 1, 2)를 기대함\n",
        "    target = (labels + 1).to(torch.int64)   # -1 → 0, 0 → 1, 1 → 2로 정수형 변환\n",
        "    return images, target"
      ],
      "metadata": {
        "id": "MO0MYs9MwHNl"
      },
      "execution_count": 9,
      "outputs": []
    },
    {
      "cell_type": "code",
      "source": [
        "# 평가 함수 정의\n",
        "def evaluate(loader):  # train_loader, val_loader, test_loader 중 하나를 넘길 수 있음\n",
        "    model.eval()\n",
        "    # 예측이 맞은 칸 수\n",
        "    correct = 0\n",
        "    # 전체 칸 수\n",
        "    total = 0\n",
        "\n",
        "    with torch.no_grad():\n",
        "        for images, labels in loader:\n",
        "            images, target = preprocess_batch(images, labels)\n",
        "            # 모델에 이미지 삽입하여 예측 수행\n",
        "            outputs = model(images)  # (B, 9, 3)\n",
        "            # 각 칸마다 3-클래스 중 가장 높은 점수를 선택\n",
        "            preds = outputs.argmax(dim=2)  # (B, 9)\n",
        "            correct += (preds == target).sum().item()\n",
        "            total += target.numel()\n",
        "\n",
        "    return correct / total"
      ],
      "metadata": {
        "id": "Sq_Dv7rO16lx"
      },
      "execution_count": 10,
      "outputs": []
    },
    {
      "cell_type": "code",
      "source": [
        "for epoch in range(100):\n",
        "    model.train()\n",
        "    # 누적 손실 초기화\n",
        "    total_loss = 0\n",
        "\n",
        "    for images, labels in train_loader:\n",
        "        images, target = preprocess_batch(images, labels)\n",
        "\n",
        "        optimizer.zero_grad() # 기울기 초기화\n",
        "        outputs = model(images)  # (B, 9, 3)\n",
        "        loss = criterion(outputs.view(-1, 3), target.view(-1)) # 손실 계산\n",
        "        loss.backward() # 역전파\n",
        "        optimizer.step() # 가중치 업데이트\n",
        "        total_loss += loss.item() # 손실 누적\n",
        "\n",
        "    # 1 epoch마다 검증 정확도 평가\n",
        "    val_acc = evaluate(val_loader)\n",
        "    print(f\"[Epoch {epoch+1:02d}] Loss: {total_loss:.4f} | Val Accuracy: {val_acc:.2%}\")"
      ],
      "metadata": {
        "id": "b2xM8ol5Xlj7",
        "colab": {
          "base_uri": "https://localhost:8080/"
        },
        "outputId": "43dc776e-9ffa-4753-c7cc-48f4c2ec82a0"
      },
      "execution_count": 11,
      "outputs": [
        {
          "output_type": "stream",
          "name": "stdout",
          "text": [
            "[Epoch 01] Loss: 10.9935 | Val Accuracy: 38.14%\n",
            "[Epoch 02] Loss: 10.8863 | Val Accuracy: 41.13%\n",
            "[Epoch 03] Loss: 10.8382 | Val Accuracy: 39.30%\n",
            "[Epoch 04] Loss: 10.7715 | Val Accuracy: 43.12%\n",
            "[Epoch 05] Loss: 10.6664 | Val Accuracy: 41.46%\n",
            "[Epoch 06] Loss: 10.6633 | Val Accuracy: 40.63%\n",
            "[Epoch 07] Loss: 10.5939 | Val Accuracy: 47.26%\n",
            "[Epoch 08] Loss: 10.4820 | Val Accuracy: 47.76%\n",
            "[Epoch 09] Loss: 10.4154 | Val Accuracy: 46.60%\n",
            "[Epoch 10] Loss: 10.2621 | Val Accuracy: 45.77%\n",
            "[Epoch 11] Loss: 10.1795 | Val Accuracy: 46.43%\n",
            "[Epoch 12] Loss: 10.1407 | Val Accuracy: 45.77%\n",
            "[Epoch 13] Loss: 10.2034 | Val Accuracy: 44.78%\n",
            "[Epoch 14] Loss: 10.0525 | Val Accuracy: 44.78%\n",
            "[Epoch 15] Loss: 9.9779 | Val Accuracy: 45.61%\n",
            "[Epoch 16] Loss: 9.8830 | Val Accuracy: 45.94%\n",
            "[Epoch 17] Loss: 9.8448 | Val Accuracy: 46.43%\n",
            "[Epoch 18] Loss: 9.7662 | Val Accuracy: 46.77%\n",
            "[Epoch 19] Loss: 9.6980 | Val Accuracy: 45.61%\n",
            "[Epoch 20] Loss: 9.6574 | Val Accuracy: 44.94%\n",
            "[Epoch 21] Loss: 9.5902 | Val Accuracy: 46.43%\n",
            "[Epoch 22] Loss: 9.5636 | Val Accuracy: 50.58%\n",
            "[Epoch 23] Loss: 9.4689 | Val Accuracy: 51.41%\n",
            "[Epoch 24] Loss: 9.3622 | Val Accuracy: 50.75%\n",
            "[Epoch 25] Loss: 9.1761 | Val Accuracy: 51.24%\n",
            "[Epoch 26] Loss: 9.0513 | Val Accuracy: 49.59%\n",
            "[Epoch 27] Loss: 9.0415 | Val Accuracy: 51.24%\n",
            "[Epoch 28] Loss: 8.9308 | Val Accuracy: 50.25%\n",
            "[Epoch 29] Loss: 8.8712 | Val Accuracy: 50.91%\n",
            "[Epoch 30] Loss: 8.7814 | Val Accuracy: 50.25%\n",
            "[Epoch 31] Loss: 8.7529 | Val Accuracy: 51.41%\n",
            "[Epoch 32] Loss: 8.7519 | Val Accuracy: 50.91%\n",
            "[Epoch 33] Loss: 8.7124 | Val Accuracy: 50.08%\n",
            "[Epoch 34] Loss: 8.6943 | Val Accuracy: 50.25%\n",
            "[Epoch 35] Loss: 8.6625 | Val Accuracy: 50.41%\n",
            "[Epoch 36] Loss: 8.6559 | Val Accuracy: 49.59%\n",
            "[Epoch 37] Loss: 8.6367 | Val Accuracy: 50.25%\n",
            "[Epoch 38] Loss: 8.6012 | Val Accuracy: 51.08%\n",
            "[Epoch 39] Loss: 8.5621 | Val Accuracy: 49.75%\n",
            "[Epoch 40] Loss: 8.5571 | Val Accuracy: 51.58%\n",
            "[Epoch 41] Loss: 8.5441 | Val Accuracy: 49.42%\n",
            "[Epoch 42] Loss: 8.5576 | Val Accuracy: 50.75%\n",
            "[Epoch 43] Loss: 8.6033 | Val Accuracy: 51.74%\n",
            "[Epoch 44] Loss: 8.5336 | Val Accuracy: 50.41%\n",
            "[Epoch 45] Loss: 8.5152 | Val Accuracy: 50.75%\n",
            "[Epoch 46] Loss: 8.5116 | Val Accuracy: 51.08%\n",
            "[Epoch 47] Loss: 8.4732 | Val Accuracy: 49.25%\n",
            "[Epoch 48] Loss: 8.4786 | Val Accuracy: 51.58%\n",
            "[Epoch 49] Loss: 8.4356 | Val Accuracy: 52.90%\n",
            "[Epoch 50] Loss: 8.4684 | Val Accuracy: 53.07%\n",
            "[Epoch 51] Loss: 8.4717 | Val Accuracy: 52.40%\n",
            "[Epoch 52] Loss: 8.4688 | Val Accuracy: 52.07%\n",
            "[Epoch 53] Loss: 8.4714 | Val Accuracy: 50.75%\n",
            "[Epoch 54] Loss: 8.4255 | Val Accuracy: 52.57%\n",
            "[Epoch 55] Loss: 8.4009 | Val Accuracy: 53.73%\n",
            "[Epoch 56] Loss: 8.4071 | Val Accuracy: 50.58%\n",
            "[Epoch 57] Loss: 8.4143 | Val Accuracy: 50.25%\n",
            "[Epoch 58] Loss: 8.4148 | Val Accuracy: 53.07%\n",
            "[Epoch 59] Loss: 8.4227 | Val Accuracy: 50.75%\n",
            "[Epoch 60] Loss: 8.3613 | Val Accuracy: 52.40%\n",
            "[Epoch 61] Loss: 8.3862 | Val Accuracy: 52.90%\n",
            "[Epoch 62] Loss: 8.3842 | Val Accuracy: 53.23%\n",
            "[Epoch 63] Loss: 8.3834 | Val Accuracy: 50.25%\n",
            "[Epoch 64] Loss: 8.3696 | Val Accuracy: 52.40%\n",
            "[Epoch 65] Loss: 8.3531 | Val Accuracy: 50.58%\n",
            "[Epoch 66] Loss: 8.2832 | Val Accuracy: 53.23%\n",
            "[Epoch 67] Loss: 8.2775 | Val Accuracy: 54.73%\n",
            "[Epoch 68] Loss: 8.2319 | Val Accuracy: 51.08%\n",
            "[Epoch 69] Loss: 8.3266 | Val Accuracy: 55.72%\n",
            "[Epoch 70] Loss: 8.3417 | Val Accuracy: 55.72%\n",
            "[Epoch 71] Loss: 8.2692 | Val Accuracy: 53.07%\n",
            "[Epoch 72] Loss: 8.2563 | Val Accuracy: 53.57%\n",
            "[Epoch 73] Loss: 8.1938 | Val Accuracy: 55.39%\n",
            "[Epoch 74] Loss: 8.1917 | Val Accuracy: 55.72%\n",
            "[Epoch 75] Loss: 8.2056 | Val Accuracy: 54.06%\n",
            "[Epoch 76] Loss: 8.2261 | Val Accuracy: 53.40%\n",
            "[Epoch 77] Loss: 8.1914 | Val Accuracy: 55.22%\n",
            "[Epoch 78] Loss: 8.1829 | Val Accuracy: 57.05%\n",
            "[Epoch 79] Loss: 8.1119 | Val Accuracy: 57.05%\n",
            "[Epoch 80] Loss: 8.1348 | Val Accuracy: 57.05%\n",
            "[Epoch 81] Loss: 8.2284 | Val Accuracy: 53.73%\n",
            "[Epoch 82] Loss: 8.1667 | Val Accuracy: 53.73%\n",
            "[Epoch 83] Loss: 8.2140 | Val Accuracy: 54.89%\n",
            "[Epoch 84] Loss: 8.1777 | Val Accuracy: 56.05%\n",
            "[Epoch 85] Loss: 8.1656 | Val Accuracy: 55.89%\n",
            "[Epoch 86] Loss: 8.0056 | Val Accuracy: 55.22%\n",
            "[Epoch 87] Loss: 8.0502 | Val Accuracy: 57.38%\n",
            "[Epoch 88] Loss: 7.9715 | Val Accuracy: 56.55%\n",
            "[Epoch 89] Loss: 8.0145 | Val Accuracy: 54.73%\n",
            "[Epoch 90] Loss: 7.9882 | Val Accuracy: 52.90%\n",
            "[Epoch 91] Loss: 7.9951 | Val Accuracy: 57.38%\n",
            "[Epoch 92] Loss: 7.9694 | Val Accuracy: 53.90%\n",
            "[Epoch 93] Loss: 8.0319 | Val Accuracy: 56.55%\n",
            "[Epoch 94] Loss: 8.0070 | Val Accuracy: 57.05%\n",
            "[Epoch 95] Loss: 8.0076 | Val Accuracy: 54.73%\n",
            "[Epoch 96] Loss: 7.9198 | Val Accuracy: 54.06%\n",
            "[Epoch 97] Loss: 8.0250 | Val Accuracy: 54.89%\n",
            "[Epoch 98] Loss: 8.1032 | Val Accuracy: 57.21%\n",
            "[Epoch 99] Loss: 7.9602 | Val Accuracy: 57.21%\n",
            "[Epoch 100] Loss: 7.9313 | Val Accuracy: 56.88%\n"
          ]
        }
      ]
    },
    {
      "cell_type": "code",
      "source": [
        "test_acc = evaluate(test_loader)\n",
        "print(f\"Test Accuracy: {test_acc:.2%}\")"
      ],
      "metadata": {
        "colab": {
          "base_uri": "https://localhost:8080/"
        },
        "id": "jMkd_0uxqNaw",
        "outputId": "d500d46c-561d-4a71-ebe5-5aef7558d51c"
      },
      "execution_count": 12,
      "outputs": [
        {
          "output_type": "stream",
          "name": "stdout",
          "text": [
            "Test Accuracy: 53.78%\n"
          ]
        }
      ]
    }
  ]
}