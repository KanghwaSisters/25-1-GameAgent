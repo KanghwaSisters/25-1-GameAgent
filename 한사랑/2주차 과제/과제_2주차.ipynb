{
  "cells": [
    {
      "cell_type": "markdown",
      "metadata": {
        "id": "_vECysj7UNoM"
      },
      "source": [
        "### 딥러닝 실습 과제 2주차 - CNN을 활용하여 보드 전체를 입력받아 9칸 상태 예측\n",
        "\n",
        "다음  세 가지 활동을 해봅시다.\n",
        "\n",
        "01. **모델 설계**: CNN 기반 분류 모델 활용\n",
        "02. **손실 함수 정의**: 각 칸에 대해 3-클래스 분류\n",
        "03. **학습 및 평가**: 시각화 함수, 정확도 측정, confusion matrix 등"
      ]
    },
    {
      "cell_type": "markdown",
      "metadata": {
        "id": "s3_fdD7Y2iY4"
      },
      "source": [
        "TTTDataset.zip을 불러와 문제에서 요하는 코드를 구현하세요.\n",
        "\n",
        "💡 **데이터 구조**  \n",
        "- **`image_black`** : 이미지 데이터  \n",
        "- **`labels`** : 타겟 데이터  "
      ]
    },
    {
      "cell_type": "code",
      "execution_count": null,
      "metadata": {
        "id": "BhRH2q-fV8lc"
      },
      "outputs": [],
      "source": [
        "import torch\n",
        "from torch.utils.data import Dataset, DataLoader\n",
        "from torchvision import transforms\n",
        "from PIL import Image\n",
        "import json"
      ]
    },
    {
      "cell_type": "markdown",
      "metadata": {
        "id": "MCpJfLtnagvV"
      },
      "source": [
        "#### 00. 클래스\n",
        "정의한 클래스를 이용해 실행해 주세요."
      ]
    },
    {
      "cell_type": "code",
      "execution_count": null,
      "metadata": {
        "id": "Ymwd8gfCYHiq"
      },
      "outputs": [],
      "source": [
        "class TTTDataset(Dataset):\n",
        "    def __init__(self, image_paths, label_paths, transform=None):\n",
        "        \"\"\"\n",
        "        틱택토 데이터셋을 PyTorch Dataset 형태로 변환.\n",
        "        :param image_paths: 이미지 파일 경로 리스트\n",
        "        :param label_paths: 레이블 JSON 파일 경로 리스트\n",
        "        :param transform: 이미지 전처리 변환\n",
        "        \"\"\"\n",
        "        self.image_paths = image_paths\n",
        "        self.label_paths = label_paths\n",
        "        self.transform = transform\n",
        "        self.data = self._load_data()\n",
        "\n",
        "\n",
        "    def _load_data(self):\n",
        "        \"\"\" 이미지 & 레이블 로드 \"\"\"\n",
        "        data = []\n",
        "        for img_path, lbl_path in zip(self.image_paths, self.label_paths):\n",
        "            # 이미지를 흑백(Grayscale)로 변환\n",
        "            image = Image.open(img_path).convert(\"L\")  # \"RGB\" 대신 \"L\" 사용\n",
        "\n",
        "            # JSON 레이블 로드\n",
        "            with open(lbl_path, 'r') as f:\n",
        "                labels = json.load(f)\n",
        "\n",
        "            # 레이블을 숫자로 변환 (O=1, X=-1, blank=0)\n",
        "            label_tensor = torch.tensor(\n",
        "                [1 if v == \"O\" else -1 if v == \"X\" else 0 for v in labels.values()],\n",
        "                dtype=torch.float32\n",
        "            )\n",
        "            data.append((image, label_tensor))\n",
        "\n",
        "        return data\n",
        "\n",
        "\n",
        "    def __len__(self):\n",
        "        \"\"\" 데이터셋 크기 반환 \"\"\"\n",
        "        return len(self.data)\n",
        "\n",
        "\n",
        "    def __getitem__(self, idx):\n",
        "        \"\"\" 데이터셋에서 idx 번째 샘플(이미지 & 레이블)을 가져오는 역할 \"\"\"\n",
        "        image, label = self.data[idx]\n",
        "\n",
        "        if self.transform:\n",
        "            image = self.transform(image)\n",
        "\n",
        "        return image, label"
      ]
    },
    {
      "cell_type": "markdown",
      "metadata": {
        "id": "seQgBNd9aZNk"
      },
      "source": [
        "#### 01. 모델 설계: CNN 기반 분류 모델 활용\n",
        "- 입력: 틱택토 보드 전체 이미지 (예: 128x128)\n",
        "- 출력: 9개의 상태(각 칸마다 O, X, blank 중 하나)"
      ]
    },
    {
      "cell_type": "code",
      "execution_count": null,
      "metadata": {
        "id": "Ue-8ZaunXd1q"
      },
      "outputs": [],
      "source": []
    },
    {
      "cell_type": "markdown",
      "metadata": {
        "id": "DYVGt8R27tXu"
      },
      "source": [
        "#### 02. 손실 함수 정의: 각 칸에 대해 3-클래스 분류\n",
        "- 다중 클래스 분류이므로 CrossEntropyLoss 사용 가능\n",
        "- 9개 칸을 각각 분류하는 방식으로 모델 구성"
      ]
    },
    {
      "cell_type": "code",
      "execution_count": null,
      "metadata": {
        "id": "8KvefRQ4XhtC"
      },
      "outputs": [],
      "source": []
    },
    {
      "cell_type": "markdown",
      "metadata": {
        "id": "ugSpuxB27va_"
      },
      "source": [
        "#### 03. 학습 및 평가: 시각화 함수, 정확도 측정, confusion matrix 등\n",
        "- 학습 데이터로 모델을 훈련하고, 정확도 측정\n",
        "- 예측이 잘 되는지 시각화하여 분석"
      ]
    },
    {
      "cell_type": "code",
      "execution_count": null,
      "metadata": {
        "id": "b2xM8ol5Xlj7"
      },
      "outputs": [],
      "source": []
    }
  ],
  "metadata": {
    "colab": {
      "provenance": []
    },
    "kernelspec": {
      "display_name": "Python 3",
      "name": "python3"
    },
    "language_info": {
      "name": "python"
    }
  },
  "nbformat": 4,
  "nbformat_minor": 0
}
