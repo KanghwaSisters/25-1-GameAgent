{
  "cells": [
    {
      "cell_type": "markdown",
      "metadata": {
        "id": "iXS28n306dDc"
      },
      "source": [
        "## SARSA\n",
        "다음 환경(**GridWorldEnvironment**)을 가지고 SARSA를 구현하세요."
      ]
    },
    {
      "cell_type": "markdown",
      "metadata": {
        "id": "hoXHmyZi5t5R"
      },
      "source": [
        "## GridWorldEnvironment\n",
        "```py\n",
        "start_point = (0,0)\n",
        "end_point = (4,4)\n",
        "gridworld_size = (5,5)\n",
        "env = GridWorldEnvironment(start_point, end_point, grid_world_size)\n",
        "```"
      ]
    },
    {
      "cell_type": "markdown",
      "metadata": {
        "id": "dm89RWca6WOS"
      },
      "source": [
        "## Original Code"
      ]
    },
    {
      "cell_type": "code",
      "execution_count": 1,
      "metadata": {
        "id": "wiEaAqK76G9y"
      },
      "outputs": [],
      "source": [
        "import numpy as np\n",
        "from typing import Tuple\n",
        "\n",
        "class GridWorldEnvironment:\n",
        "    def __init__(self, start_point:Tuple, end_point:Tuple, grid_world_size:Tuple):\n",
        "        # 시작점과 끝점을 받는다.\n",
        "        self.start_point = start_point\n",
        "        self.end_point = end_point if end_point != (-1,-1) else (grid_world_size[0] + end_point[0],\n",
        "                                                                 grid_world_size[1] + end_point[1])\n",
        "\n",
        "        # 그리드 월드의 규격을 받는다.\n",
        "        self.width, self.height = grid_world_size\n",
        "\n",
        "        # action dictionary\n",
        "        self.action_space = ['up', 'down', 'left', 'right']\n",
        "        self.num_actions = len(self.action_space)\n",
        "        self.actions = {'up':(-1,0),\n",
        "                        'down':(1,0),\n",
        "                        'left':(0,-1),\n",
        "                        'right':(0,1) }\n",
        "\n",
        "        # 상태 : 좌표로 나타남\n",
        "        self.traces = []\n",
        "\n",
        "        # total states\n",
        "        self.total_states = []\n",
        "        for x in range(self.width):\n",
        "            for y in range(self.height):\n",
        "                self.total_states.append((x,y))\n",
        "\n",
        "        # reward\n",
        "        self.reward = np.zeros(shape=(self.height, self.width)).tolist()\n",
        "        self.reward[end_point[0]][end_point[1]] = 1\n",
        "\n",
        "    def render(self):\n",
        "        # 그리드 월드의 상태를 출력한다.\n",
        "        self.grid_world = np.full(shape=(self.height, self.width), fill_value=\".\").tolist()\n",
        "\n",
        "        last_point = self.traces[-1] # 에이전트가 가장 마지막에 있었던 위치\n",
        "        traces = list(set(self.traces)) # 중복된 값을 삭제하기 위함\n",
        "        for trace in traces:\n",
        "            self.grid_world[trace[0]][trace[1]] = \"X\"\n",
        "\n",
        "        self.grid_world[self.start_point[0]][self.start_point[1]] = \"S\" # start point\n",
        "        self.grid_world[self.end_point[0]][self.end_point[1]] = \"G\" # end point\n",
        "        self.grid_world[last_point[0]][last_point[1]] = \"A\" # 현재 에이전트의 위치\n",
        "\n",
        "        # string으로 출력한다.\n",
        "        grid = \"\"\n",
        "\n",
        "        for i in range(self.height):\n",
        "            for j in range(self.width):\n",
        "                grid += self.grid_world[i][j]+\" \"\n",
        "            grid += \"\\n\"\n",
        "\n",
        "        print(grid)\n",
        "\n",
        "    def get_reward(self, state, action_idx):\n",
        "        next_state = self.state_after_action(state, action_idx)\n",
        "        return self.reward[next_state[0]][next_state[1]]\n",
        "\n",
        "    def state_after_action(self, state, action_idx:int):\n",
        "        action = self.action_space[action_idx]\n",
        "        row_movement, col_movement = self.actions[action]\n",
        "\n",
        "        # action에 따라 에이전트 이동\n",
        "        next_state = (state[0]+row_movement, state[1]+col_movement)\n",
        "        next_state = self.check_boundary(next_state)\n",
        "\n",
        "        return next_state\n",
        "\n",
        "    def check_boundary(self, state):\n",
        "        state = list(state)\n",
        "        state[0] = (0 if state[0] < 0 else self.height - 1 if state[0] > self.height - 1 else state[0])\n",
        "        state[1] = (0 if state[1] < 0 else self.width - 1 if state[1] > self.width - 1 else state[1])\n",
        "        return tuple(state)"
      ]
    },
    {
      "cell_type": "markdown",
      "metadata": {
        "id": "Gvc0Jr9m6xZ3"
      },
      "source": [
        "# SARSA Class"
      ]
    },
    {
      "cell_type": "code",
      "execution_count": 2,
      "metadata": {
        "id": "DNnwj-jO23E4"
      },
      "outputs": [],
      "source": [
        "env = GridWorldEnvironment(start_point=(0,0), #위 환경 클래스를 상속 받아 `env.render` 코드를 구현\n",
        "                           end_point=(4,4),\n",
        "                           grid_world_size=(5,5))"
      ]
    },
    {
      "cell_type": "markdown",
      "metadata": {
        "id": "7jW6ivs16zHO"
      },
      "source": [
        "## Main"
      ]
    },
    {
      "cell_type": "markdown",
      "metadata": {
        "id": "Kpj3a2xf7Pkz"
      },
      "source": [
        "- **SARSA**를 이용해 그리드 월드 학습시키기  \n",
        "- 학습 지표 시각화 (에피소드마다 에이전트의 이동 횟수 시각화)"
      ]
    },
    {
      "cell_type": "code",
      "execution_count": null,
      "metadata": {},
      "outputs": [],
      "source": []
    }
  ],
  "metadata": {
    "colab": {
      "provenance": []
    },
    "kernelspec": {
      "display_name": ".venv",
      "language": "python",
      "name": "python3"
    },
    "language_info": {
      "codemirror_mode": {
        "name": "ipython",
        "version": 3
      },
      "file_extension": ".py",
      "mimetype": "text/x-python",
      "name": "python",
      "nbconvert_exporter": "python",
      "pygments_lexer": "ipython3",
      "version": "3.9.6"
    }
  },
  "nbformat": 4,
  "nbformat_minor": 0
}
