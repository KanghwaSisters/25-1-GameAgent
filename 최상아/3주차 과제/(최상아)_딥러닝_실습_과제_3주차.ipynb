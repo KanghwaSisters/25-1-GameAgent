{
  "nbformat": 4,
  "nbformat_minor": 0,
  "metadata": {
    "colab": {
      "provenance": []
    },
    "kernelspec": {
      "name": "python3",
      "display_name": "Python 3"
    },
    "language_info": {
      "name": "python"
    }
  },
  "cells": [
    {
      "cell_type": "markdown",
      "source": [
        "## 딥러닝 실습 과제 3주차 - CNN을 활용한 이미지 데이터 증강 실험\n",
        "\n",
        "다음  네 가지 활동을 해봅시다.\n",
        "\n",
        "01. **데이터 전처리 및 로딩**: \"기존\" vs \"기존 + 증강\"\n",
        "02. **모델 설계**: CNN 기반 분류 모델 재사용 및 수정\n",
        "03. **손실 함수 정의**: 각 칸에 대해 3-클래스 분류\n",
        "04. **증강 적용 유무에 따른 성능 비교**"
      ],
      "metadata": {
        "id": "_vECysj7UNoM"
      }
    },
    {
      "cell_type": "markdown",
      "source": [
        "TTTDataset.zip을 불러와 문제에서 요하는 코드를 구현하세요.\n",
        "\n",
        "💡 **데이터 구조**  \n",
        "- **`image_black`** : 이미지 데이터  \n",
        "- **`labels`** : 타겟 데이터  "
      ],
      "metadata": {
        "id": "s3_fdD7Y2iY4"
      }
    },
    {
      "cell_type": "code",
      "source": [
        "import torch\n",
        "from torch.utils.data import Dataset, DataLoader, random_split\n",
        "from PIL import Image\n",
        "import json\n",
        "import glob\n",
        "import os\n",
        "\n",
        "import torch.nn as nn\n",
        "import torch.optim as optim\n",
        "from torchvision import datasets\n",
        "import torch.nn.functional as F"
      ],
      "metadata": {
        "id": "plOA2vEEKeEe"
      },
      "execution_count": 47,
      "outputs": []
    },
    {
      "cell_type": "markdown",
      "source": [
        "## 00. 클래스\n",
        "정의한 클래스를 이용해 실행해 주세요."
      ],
      "metadata": {
        "id": "MCpJfLtnagvV"
      }
    },
    {
      "cell_type": "code",
      "source": [
        "from google.colab import drive\n",
        "drive.mount('/content/drive')\n",
        "\n",
        "image_dir = '/content/drive/My Drive/KHS/TTTDataset/image_black'\n",
        "label_dir = '/content/drive/My Drive/KHS/TTTDataset/labels'\n",
        "\n",
        "image_paths = sorted(glob.glob(os.path.join(image_dir, \"*.jpg\")) +\n",
        "                     glob.glob(os.path.join(image_dir, \"*.JPG\")))\n",
        "label_paths = sorted(glob.glob(os.path.join(label_dir, \"*.json\")))"
      ],
      "metadata": {
        "colab": {
          "base_uri": "https://localhost:8080/"
        },
        "id": "8vhMi8Sr8KQy",
        "outputId": "e87cad99-99cb-4405-815e-41460c10411a"
      },
      "execution_count": 48,
      "outputs": [
        {
          "output_type": "stream",
          "name": "stdout",
          "text": [
            "Drive already mounted at /content/drive; to attempt to forcibly remount, call drive.mount(\"/content/drive\", force_remount=True).\n"
          ]
        }
      ]
    },
    {
      "cell_type": "code",
      "source": [
        "class TTTDataset(Dataset):\n",
        "    def __init__(self, image_paths, label_paths, transform=None):\n",
        "        \"\"\"\n",
        "        틱택토 데이터셋을 PyTorch Dataset 형태로 변환.\n",
        "        :param image_paths: 이미지 파일 경로 리스트\n",
        "        :param label_paths: 레이블 JSON 파일 경로 리스트\n",
        "        :param transform: 이미지 전처리 변환\n",
        "        \"\"\"\n",
        "        self.image_paths = image_paths\n",
        "        self.label_paths = label_paths\n",
        "        self.transform = transform\n",
        "        self.data = self._load_data()\n",
        "\n",
        "\n",
        "    def _load_data(self):\n",
        "        \"\"\" 이미지 & 레이블 로드 \"\"\"\n",
        "        data = []\n",
        "        for img_path, lbl_path in zip(self.image_paths, self.label_paths):\n",
        "            # 이미지를 흑백(Grayscale)로 변환\n",
        "            image = Image.open(img_path).convert(\"L\")  # \"RGB\" 대신 \"L\" 사용\n",
        "\n",
        "            # JSON 레이블 로드\n",
        "            with open(lbl_path, 'r') as f:\n",
        "                labels = json.load(f)\n",
        "\n",
        "            # 레이블을 숫자로 변환 (O=1, X=-1, blank=0)\n",
        "            label_tensor = torch.tensor(\n",
        "                [2 if v == \"O\" else 0 if v == \"X\" else 1 for v in labels.values()],\n",
        "                dtype=torch.float32\n",
        "            )\n",
        "            data.append((image, label_tensor))\n",
        "\n",
        "        return data\n",
        "\n",
        "\n",
        "    def __len__(self):\n",
        "        \"\"\" 데이터셋 크기 반환 \"\"\"\n",
        "        return len(self.data)\n",
        "\n",
        "\n",
        "    def __getitem__(self, idx):\n",
        "        \"\"\" 데이터셋에서 idx 번째 샘플(이미지 & 레이블)을 가져오는 역할 \"\"\"\n",
        "        image, label = self.data[idx]\n",
        "        label = torch.tensor(label, dtype=torch.long)\n",
        "\n",
        "        if self.transform:\n",
        "            image = self.transform(image)\n",
        "\n",
        "        return image, label"
      ],
      "metadata": {
        "id": "Ymwd8gfCYHiq"
      },
      "execution_count": 49,
      "outputs": []
    },
    {
      "cell_type": "code",
      "source": [
        "class TTTDataset(Dataset):\n",
        "    def __init__(self, image_paths, label_paths, transform=None):\n",
        "        \"\"\"\n",
        "        틱택토 데이터셋을 PyTorch Dataset 형태로 변환.\n",
        "        :param image_paths: 이미지 파일 경로 리스트\n",
        "        :param label_paths: 레이블 JSON 파일 경로 리스트\n",
        "        :param transform: 이미지 전처리 변환\n",
        "        \"\"\"\n",
        "        self.image_paths = image_paths\n",
        "        self.label_paths = label_paths\n",
        "        self.transform = transform\n",
        "        self.data = self._load_data()\n",
        "\n",
        "\n",
        "    def _load_data(self):\n",
        "        \"\"\" 이미지 & 레이블 로드 \"\"\"\n",
        "        data = []\n",
        "        for img_path, lbl_path in zip(self.image_paths, self.label_paths):\n",
        "            # 이미지를 흑백(Grayscale)로 변환\n",
        "            image = Image.open(img_path).convert(\"L\")  # \"RGB\" 대신 \"L\" 사용\n",
        "\n",
        "            # JSON 레이블 로드\n",
        "            with open(lbl_path, 'r') as f:\n",
        "                labels = json.load(f)\n",
        "\n",
        "            # 레이블을 숫자로 변환 (O=1, X=-1, blank=0)\n",
        "            label_tensor = torch.tensor(\n",
        "                [2 if v == \"O\" else 0 if v == \"X\" else 1 for v in labels.values()],\n",
        "                dtype=torch.float32\n",
        "            )\n",
        "            data.append((image, label_tensor))\n",
        "\n",
        "        return data\n",
        "\n",
        "\n",
        "    def __len__(self):\n",
        "        \"\"\" 데이터셋 크기 반환 \"\"\"\n",
        "        return len(self.data)\n",
        "\n",
        "\n",
        "    def __getitem__(self, idx):\n",
        "        \"\"\" 데이터셋에서 idx 번째 샘플(이미지 & 레이블)을 가져오는 역할 \"\"\"\n",
        "        image, label = self.data[idx]\n",
        "        label = torch.tensor(label, dtype=torch.long)\n",
        "\n",
        "        if self.transform:\n",
        "            image = self.transform(image)\n",
        "\n",
        "        return image, label"
      ],
      "metadata": {
        "id": "OqPmuxgWVp3w"
      },
      "execution_count": 50,
      "outputs": []
    },
    {
      "cell_type": "markdown",
      "source": [
        "## 01. 데이터 전처리 및 로딩: \"기존\" vs \"기존 + 증강\"\n",
        "\n",
        "💡 실험을 위한 **두 개의 DataLoader**를 구성하세요 (1주차 과제 참고)\n",
        "- 기존 데이터만 사용하는 DataLoader\n",
        "- 기존 데이터 + 실시간 transform 증강을 적용한 DataLoader\n"
      ],
      "metadata": {
        "id": "seQgBNd9aZNk"
      }
    },
    {
      "cell_type": "code",
      "source": [
        "from torchvision import transforms"
      ],
      "metadata": {
        "id": "WGUrhGc2DqJC"
      },
      "execution_count": 51,
      "outputs": []
    },
    {
      "cell_type": "code",
      "source": [
        "# 기본 데이터셋 변형\n",
        "transform = transforms.Compose([\n",
        "    transforms.Resize((28, 28)),  # 이미지 크기를 28x28로 조정\n",
        "    transforms.ToTensor(),  # 이미지를 PyTorch 텐서로 변환\n",
        "    transforms.Normalize((0.5,), (0.5,))  # 정규화: 평균 0.5, 표준편차 0.5\n",
        "])\n",
        "\n",
        "# 증강 변환 설정 (기존 데이터 + 실시간 증강)\n",
        "augmented_transform = transforms.Compose([\n",
        "    transforms.Resize((28, 28)),  # 이미지 크기 조정\n",
        "    transforms.RandomHorizontalFlip(),  # 랜덤으로 수평 뒤집기 (뒤집힐 확률 50%)\n",
        "    transforms.RandomRotation(15),  # 랜덤 회전 (15도 max)\n",
        "    transforms.ToTensor(),  # 이미지를 Tensor로 변환\n",
        "    transforms.Normalize((0.5,), (0.5,))  # 정규화\n",
        "])\n",
        "\n",
        "# 기본 데이터셋 생성\n",
        "dataset = TTTDataset(image_paths=image_paths, label_paths=label_paths, transform=transform)\n",
        "dataloader = DataLoader(dataset, batch_size=32, shuffle=True)\n",
        "\n",
        "# 증강 데이터셋 생성\n",
        "dataset_augmented = TTTDataset(image_paths=image_paths, label_paths=label_paths, transform=augmented_transform)\n",
        "dataloader_augmented = DataLoader(dataset_augmented, batch_size=32, shuffle=True)"
      ],
      "metadata": {
        "id": "Ax4a1k3uH2TF"
      },
      "execution_count": 52,
      "outputs": []
    },
    {
      "cell_type": "markdown",
      "source": [
        "## 02. 모델 설계: CNN 기반 분류 모델 재사용 및 수정\n",
        "- 1채널 이미지 입력, 9 × 3-클래스 출력 구조 유지 (2주차 과제 참고)\n",
        "- Dropout/Hidden Layer 등 수정 가능\n"
      ],
      "metadata": {
        "id": "DYVGt8R27tXu"
      }
    },
    {
      "cell_type": "code",
      "source": [
        "class TicTacToeCNN(nn.Module):\n",
        "    def __init__(self):\n",
        "        super(TicTacToeCNN, self).__init__()\n",
        "\n",
        "        # Convolutional Layers\n",
        "        self.conv1 = nn.Conv2d(in_channels=1, out_channels=32, kernel_size=3, padding=1)\n",
        "        self.conv2 = nn.Conv2d(in_channels=32, out_channels=64, kernel_size=3, padding=1)\n",
        "        # 1채널 이미지(흑백) 입력, 32 특징 맵 출력, 3*3 커널 필터, 패딩=1로 입력 사이즈 유지\n",
        "\n",
        "        # Fully Connected Layers\n",
        "        self.fc1 = nn.Linear(64 * 7 * 7, 128) # 128 뉴런으로 변환 출력\n",
        "        self.fc2 = nn.Linear(128, 27)  # 9칸 * 3가지 상태 (O, X, blank)\n",
        "\n",
        "    def forward(self, x):\n",
        "        # Convolutional layers\n",
        "        x = F.relu(self.conv1(x))\n",
        "        x = F.max_pool2d(x, 2) # 맥스 풀링 - 채널 수 유지, h, w의 공간 크기 변화\n",
        "        x = F.relu(self.conv2(x))\n",
        "        x = F.max_pool2d(x, 2)\n",
        "\n",
        "        # Flatten - CNN에서 2차원 데이터를 다루므로 FcL 진입을 위해 평탄화 작업을 거쳐야 한다.\n",
        "        x = x.view(x.size(0), -1)\n",
        "\n",
        "        # Fully connected layers\n",
        "        x = F.relu(self.fc1(x))\n",
        "        x = self.fc2(x)\n",
        "\n",
        "        # Reshape to (batch_size, 9, 3)\n",
        "        x = x.view(-1, 9, 3)\n",
        "\n",
        "        # Apply softmax on each set of 3 outputs\n",
        "        x = F.softmax(x, dim=2) # 각 클래스에 속할 확률 출력\n",
        "        return x\n",
        "\n",
        "model = TicTacToeCNN()"
      ],
      "metadata": {
        "id": "yHA859eaDosf"
      },
      "execution_count": 53,
      "outputs": []
    },
    {
      "cell_type": "markdown",
      "source": [
        "## 03. 손실 함수 정의: 각 칸에 대해 3-클래스 분류\n",
        "- 다중 클래스 분류이므로 CrossEntropyLoss 사용 가능\n",
        "- 9개 칸을 각각 분류하는 방식으로 모델 구성\n",
        "- Adam 옵티마이저 사용 권장"
      ],
      "metadata": {
        "id": "ugSpuxB27va_"
      }
    },
    {
      "cell_type": "code",
      "source": [
        "# Cross-Entropy 손실 함수 선언\n",
        "criterion = nn.CrossEntropyLoss()\n",
        "optimizer = optim.Adam(model.parameters(), lr=0.001)  # Example optimizer"
      ],
      "metadata": {
        "id": "st1wMoa8Dnwt"
      },
      "execution_count": 54,
      "outputs": []
    },
    {
      "cell_type": "markdown",
      "source": [
        "## 04. 증강 적용 유무에 따른 성능 비교\n",
        "- 두 개의 DataLoader로 두 번 실험\n",
        "- 같은 모델 구조로 학습 → 성능 차이 비교 (정확도/학습 안정성/과적합 여부 등)"
      ],
      "metadata": {
        "id": "cF58k_5VDhv-"
      }
    },
    {
      "cell_type": "code",
      "source": [
        "num_epochs = 10\n",
        "total_loss = 0\n",
        "num_batches = 0\n",
        "\n",
        "for epoch in range(num_epochs):\n",
        "    total_loss = 0\n",
        "    num_batches = 0\n",
        "    for images, labels in dataloader:\n",
        "        optimizer.zero_grad()  # Reset gradients\n",
        "\n",
        "        outputs = model(images)  # Get model predictions\n",
        "        outputs = outputs.view(-1, 3)\n",
        "\n",
        "        # Flatten the labels if necessary\n",
        "        labels = labels.view(-1)  # 예: (32, 9) -> (288,)\n",
        "\n",
        "        # Compute loss\n",
        "        loss = criterion(outputs, labels)\n",
        "\n",
        "        # Backward pass and optimization\n",
        "        loss.backward()\n",
        "        optimizer.step()\n",
        "\n",
        "        total_loss += loss.item()  # 손실값 누적\n",
        "        num_batches += 1  # 배치 수 증가\n",
        "\n",
        "        # 에포크마다 평균 손실 및 배치 수 출력\n",
        "        average_loss = total_loss / num_batches  # 평균 손실 계산\n",
        "        print(f'Epoch [{epoch + 1}/{num_epochs}], '\n",
        "              f'Number of Batches: {num_batches}',\n",
        "              f'Average Loss: {average_loss:.4f}, ')\n",
        "\n"
      ],
      "metadata": {
        "id": "T33wjZwADl7h",
        "colab": {
          "base_uri": "https://localhost:8080/"
        },
        "outputId": "70694710-9e63-4b37-dd33-d0378777b446"
      },
      "execution_count": 55,
      "outputs": [
        {
          "output_type": "stream",
          "name": "stderr",
          "text": [
            "<ipython-input-50-557ba86c7a60>:44: UserWarning: To copy construct from a tensor, it is recommended to use sourceTensor.clone().detach() or sourceTensor.clone().detach().requires_grad_(True), rather than torch.tensor(sourceTensor).\n",
            "  label = torch.tensor(label, dtype=torch.long)\n"
          ]
        },
        {
          "output_type": "stream",
          "name": "stdout",
          "text": [
            "Epoch [1/10], Number of Batches: 1 Average Loss: 1.0998, \n",
            "Epoch [1/10], Number of Batches: 2 Average Loss: 1.0992, \n",
            "Epoch [1/10], Number of Batches: 3 Average Loss: 1.0987, \n",
            "Epoch [1/10], Number of Batches: 4 Average Loss: 1.0954, \n",
            "Epoch [1/10], Number of Batches: 5 Average Loss: 1.0954, \n",
            "Epoch [1/10], Number of Batches: 6 Average Loss: 1.0932, \n",
            "Epoch [1/10], Number of Batches: 7 Average Loss: 1.0940, \n",
            "Epoch [1/10], Number of Batches: 8 Average Loss: 1.0936, \n",
            "Epoch [1/10], Number of Batches: 9 Average Loss: 1.0930, \n",
            "Epoch [1/10], Number of Batches: 10 Average Loss: 1.0928, \n",
            "Epoch [1/10], Number of Batches: 11 Average Loss: 1.0907, \n",
            "Epoch [1/10], Number of Batches: 12 Average Loss: 1.0906, \n",
            "Epoch [1/10], Number of Batches: 13 Average Loss: 1.0900, \n",
            "Epoch [1/10], Number of Batches: 14 Average Loss: 1.0898, \n",
            "Epoch [1/10], Number of Batches: 15 Average Loss: 1.0890, \n",
            "Epoch [2/10], Number of Batches: 1 Average Loss: 1.0727, \n",
            "Epoch [2/10], Number of Batches: 2 Average Loss: 1.0704, \n",
            "Epoch [2/10], Number of Batches: 3 Average Loss: 1.0720, \n",
            "Epoch [2/10], Number of Batches: 4 Average Loss: 1.0783, \n",
            "Epoch [2/10], Number of Batches: 5 Average Loss: 1.0790, \n",
            "Epoch [2/10], Number of Batches: 6 Average Loss: 1.0781, \n",
            "Epoch [2/10], Number of Batches: 7 Average Loss: 1.0782, \n",
            "Epoch [2/10], Number of Batches: 8 Average Loss: 1.0800, \n",
            "Epoch [2/10], Number of Batches: 9 Average Loss: 1.0803, \n",
            "Epoch [2/10], Number of Batches: 10 Average Loss: 1.0793, \n",
            "Epoch [2/10], Number of Batches: 11 Average Loss: 1.0798, \n",
            "Epoch [2/10], Number of Batches: 12 Average Loss: 1.0799, \n",
            "Epoch [2/10], Number of Batches: 13 Average Loss: 1.0795, \n",
            "Epoch [2/10], Number of Batches: 14 Average Loss: 1.0795, \n",
            "Epoch [2/10], Number of Batches: 15 Average Loss: 1.0815, \n",
            "Epoch [3/10], Number of Batches: 1 Average Loss: 1.0712, \n",
            "Epoch [3/10], Number of Batches: 2 Average Loss: 1.0686, \n",
            "Epoch [3/10], Number of Batches: 3 Average Loss: 1.0699, \n",
            "Epoch [3/10], Number of Batches: 4 Average Loss: 1.0665, \n",
            "Epoch [3/10], Number of Batches: 5 Average Loss: 1.0674, \n",
            "Epoch [3/10], Number of Batches: 6 Average Loss: 1.0700, \n",
            "Epoch [3/10], Number of Batches: 7 Average Loss: 1.0677, \n",
            "Epoch [3/10], Number of Batches: 8 Average Loss: 1.0671, \n",
            "Epoch [3/10], Number of Batches: 9 Average Loss: 1.0665, \n",
            "Epoch [3/10], Number of Batches: 10 Average Loss: 1.0660, \n",
            "Epoch [3/10], Number of Batches: 11 Average Loss: 1.0655, \n",
            "Epoch [3/10], Number of Batches: 12 Average Loss: 1.0649, \n",
            "Epoch [3/10], Number of Batches: 13 Average Loss: 1.0626, \n",
            "Epoch [3/10], Number of Batches: 14 Average Loss: 1.0614, \n",
            "Epoch [3/10], Number of Batches: 15 Average Loss: 1.0614, \n",
            "Epoch [4/10], Number of Batches: 1 Average Loss: 1.0692, \n",
            "Epoch [4/10], Number of Batches: 2 Average Loss: 1.0415, \n",
            "Epoch [4/10], Number of Batches: 3 Average Loss: 1.0375, \n",
            "Epoch [4/10], Number of Batches: 4 Average Loss: 1.0422, \n",
            "Epoch [4/10], Number of Batches: 5 Average Loss: 1.0465, \n",
            "Epoch [4/10], Number of Batches: 6 Average Loss: 1.0511, \n",
            "Epoch [4/10], Number of Batches: 7 Average Loss: 1.0492, \n",
            "Epoch [4/10], Number of Batches: 8 Average Loss: 1.0469, \n",
            "Epoch [4/10], Number of Batches: 9 Average Loss: 1.0459, \n",
            "Epoch [4/10], Number of Batches: 10 Average Loss: 1.0446, \n",
            "Epoch [4/10], Number of Batches: 11 Average Loss: 1.0422, \n",
            "Epoch [4/10], Number of Batches: 12 Average Loss: 1.0425, \n",
            "Epoch [4/10], Number of Batches: 13 Average Loss: 1.0410, \n",
            "Epoch [4/10], Number of Batches: 14 Average Loss: 1.0396, \n",
            "Epoch [4/10], Number of Batches: 15 Average Loss: 1.0385, \n",
            "Epoch [5/10], Number of Batches: 1 Average Loss: 1.0276, \n",
            "Epoch [5/10], Number of Batches: 2 Average Loss: 1.0291, \n",
            "Epoch [5/10], Number of Batches: 3 Average Loss: 1.0299, \n",
            "Epoch [5/10], Number of Batches: 4 Average Loss: 1.0274, \n",
            "Epoch [5/10], Number of Batches: 5 Average Loss: 1.0236, \n",
            "Epoch [5/10], Number of Batches: 6 Average Loss: 1.0224, \n",
            "Epoch [5/10], Number of Batches: 7 Average Loss: 1.0271, \n",
            "Epoch [5/10], Number of Batches: 8 Average Loss: 1.0225, \n",
            "Epoch [5/10], Number of Batches: 9 Average Loss: 1.0227, \n",
            "Epoch [5/10], Number of Batches: 10 Average Loss: 1.0233, \n",
            "Epoch [5/10], Number of Batches: 11 Average Loss: 1.0258, \n",
            "Epoch [5/10], Number of Batches: 12 Average Loss: 1.0256, \n",
            "Epoch [5/10], Number of Batches: 13 Average Loss: 1.0265, \n",
            "Epoch [5/10], Number of Batches: 14 Average Loss: 1.0245, \n",
            "Epoch [5/10], Number of Batches: 15 Average Loss: 1.0214, \n",
            "Epoch [6/10], Number of Batches: 1 Average Loss: 1.0296, \n",
            "Epoch [6/10], Number of Batches: 2 Average Loss: 1.0107, \n",
            "Epoch [6/10], Number of Batches: 3 Average Loss: 1.0002, \n",
            "Epoch [6/10], Number of Batches: 4 Average Loss: 0.9973, \n",
            "Epoch [6/10], Number of Batches: 5 Average Loss: 0.9962, \n",
            "Epoch [6/10], Number of Batches: 6 Average Loss: 0.9934, \n",
            "Epoch [6/10], Number of Batches: 7 Average Loss: 0.9888, \n",
            "Epoch [6/10], Number of Batches: 8 Average Loss: 0.9875, \n",
            "Epoch [6/10], Number of Batches: 9 Average Loss: 0.9868, \n",
            "Epoch [6/10], Number of Batches: 10 Average Loss: 0.9867, \n",
            "Epoch [6/10], Number of Batches: 11 Average Loss: 0.9896, \n",
            "Epoch [6/10], Number of Batches: 12 Average Loss: 0.9890, \n",
            "Epoch [6/10], Number of Batches: 13 Average Loss: 0.9892, \n",
            "Epoch [6/10], Number of Batches: 14 Average Loss: 0.9890, \n",
            "Epoch [6/10], Number of Batches: 15 Average Loss: 0.9885, \n",
            "Epoch [7/10], Number of Batches: 1 Average Loss: 0.9783, \n",
            "Epoch [7/10], Number of Batches: 2 Average Loss: 0.9863, \n",
            "Epoch [7/10], Number of Batches: 3 Average Loss: 0.9931, \n",
            "Epoch [7/10], Number of Batches: 4 Average Loss: 0.9939, \n",
            "Epoch [7/10], Number of Batches: 5 Average Loss: 0.9933, \n",
            "Epoch [7/10], Number of Batches: 6 Average Loss: 0.9831, \n",
            "Epoch [7/10], Number of Batches: 7 Average Loss: 0.9726, \n",
            "Epoch [7/10], Number of Batches: 8 Average Loss: 0.9727, \n",
            "Epoch [7/10], Number of Batches: 9 Average Loss: 0.9722, \n",
            "Epoch [7/10], Number of Batches: 10 Average Loss: 0.9718, \n",
            "Epoch [7/10], Number of Batches: 11 Average Loss: 0.9696, \n",
            "Epoch [7/10], Number of Batches: 12 Average Loss: 0.9681, \n",
            "Epoch [7/10], Number of Batches: 13 Average Loss: 0.9669, \n",
            "Epoch [7/10], Number of Batches: 14 Average Loss: 0.9659, \n",
            "Epoch [7/10], Number of Batches: 15 Average Loss: 0.9653, \n",
            "Epoch [8/10], Number of Batches: 1 Average Loss: 0.9141, \n",
            "Epoch [8/10], Number of Batches: 2 Average Loss: 0.9314, \n",
            "Epoch [8/10], Number of Batches: 3 Average Loss: 0.9361, \n",
            "Epoch [8/10], Number of Batches: 4 Average Loss: 0.9395, \n",
            "Epoch [8/10], Number of Batches: 5 Average Loss: 0.9460, \n",
            "Epoch [8/10], Number of Batches: 6 Average Loss: 0.9423, \n",
            "Epoch [8/10], Number of Batches: 7 Average Loss: 0.9428, \n",
            "Epoch [8/10], Number of Batches: 8 Average Loss: 0.9407, \n",
            "Epoch [8/10], Number of Batches: 9 Average Loss: 0.9376, \n",
            "Epoch [8/10], Number of Batches: 10 Average Loss: 0.9352, \n",
            "Epoch [8/10], Number of Batches: 11 Average Loss: 0.9353, \n",
            "Epoch [8/10], Number of Batches: 12 Average Loss: 0.9361, \n",
            "Epoch [8/10], Number of Batches: 13 Average Loss: 0.9348, \n",
            "Epoch [8/10], Number of Batches: 14 Average Loss: 0.9339, \n",
            "Epoch [8/10], Number of Batches: 15 Average Loss: 0.9278, \n",
            "Epoch [9/10], Number of Batches: 1 Average Loss: 0.9270, \n",
            "Epoch [9/10], Number of Batches: 2 Average Loss: 0.9133, \n",
            "Epoch [9/10], Number of Batches: 3 Average Loss: 0.9194, \n",
            "Epoch [9/10], Number of Batches: 4 Average Loss: 0.9217, \n",
            "Epoch [9/10], Number of Batches: 5 Average Loss: 0.9174, \n",
            "Epoch [9/10], Number of Batches: 6 Average Loss: 0.9136, \n",
            "Epoch [9/10], Number of Batches: 7 Average Loss: 0.9124, \n",
            "Epoch [9/10], Number of Batches: 8 Average Loss: 0.9106, \n",
            "Epoch [9/10], Number of Batches: 9 Average Loss: 0.9070, \n",
            "Epoch [9/10], Number of Batches: 10 Average Loss: 0.9076, \n",
            "Epoch [9/10], Number of Batches: 11 Average Loss: 0.9074, \n",
            "Epoch [9/10], Number of Batches: 12 Average Loss: 0.9085, \n",
            "Epoch [9/10], Number of Batches: 13 Average Loss: 0.9080, \n",
            "Epoch [9/10], Number of Batches: 14 Average Loss: 0.9088, \n",
            "Epoch [9/10], Number of Batches: 15 Average Loss: 0.9112, \n",
            "Epoch [10/10], Number of Batches: 1 Average Loss: 0.9256, \n",
            "Epoch [10/10], Number of Batches: 2 Average Loss: 0.9039, \n",
            "Epoch [10/10], Number of Batches: 3 Average Loss: 0.9030, \n",
            "Epoch [10/10], Number of Batches: 4 Average Loss: 0.8987, \n",
            "Epoch [10/10], Number of Batches: 5 Average Loss: 0.8973, \n",
            "Epoch [10/10], Number of Batches: 6 Average Loss: 0.8899, \n",
            "Epoch [10/10], Number of Batches: 7 Average Loss: 0.8886, \n",
            "Epoch [10/10], Number of Batches: 8 Average Loss: 0.8903, \n",
            "Epoch [10/10], Number of Batches: 9 Average Loss: 0.8890, \n",
            "Epoch [10/10], Number of Batches: 10 Average Loss: 0.8890, \n",
            "Epoch [10/10], Number of Batches: 11 Average Loss: 0.8885, \n",
            "Epoch [10/10], Number of Batches: 12 Average Loss: 0.8868, \n",
            "Epoch [10/10], Number of Batches: 13 Average Loss: 0.8864, \n",
            "Epoch [10/10], Number of Batches: 14 Average Loss: 0.8848, \n",
            "Epoch [10/10], Number of Batches: 15 Average Loss: 0.8853, \n"
          ]
        }
      ]
    },
    {
      "cell_type": "code",
      "source": [
        "num_epochs = 10\n",
        "total_loss = 0\n",
        "num_batches = 0\n",
        "\n",
        "for epoch in range(num_epochs):\n",
        "    total_loss = 0\n",
        "    num_batches = 0\n",
        "    for images, labels in dataloader_augmented:\n",
        "        optimizer.zero_grad()  # Reset gradients\n",
        "\n",
        "        outputs = model(images)  # Get model predictions\n",
        "        outputs = outputs.view(-1, 3)\n",
        "\n",
        "        # Flatten the labels if necessary\n",
        "        labels = labels.view(-1)  # 예: (32, 9) -> (288,)\n",
        "\n",
        "        # Compute loss\n",
        "        loss = criterion(outputs, labels)\n",
        "\n",
        "        # Backward pass and optimization\n",
        "        loss.backward()\n",
        "        optimizer.step()\n",
        "\n",
        "        total_loss += loss.item()  # 손실값 누적\n",
        "        num_batches += 1  # 배치 수 증가\n",
        "\n",
        "        # 에포크마다 평균 손실 및 배치 수 출력\n",
        "        average_loss = total_loss / num_batches  # 평균 손실 계산\n",
        "        print(f'Epoch [{epoch + 1}/{num_epochs}], '\n",
        "              f'Number of Batches: {num_batches}',\n",
        "              f'Average Loss: {average_loss:.4f}, ')\n",
        "\n"
      ],
      "metadata": {
        "colab": {
          "base_uri": "https://localhost:8080/"
        },
        "id": "GCCk0OWYWQxk",
        "outputId": "eb9cefba-7a63-48f7-f30b-a5a42bbc9cf1"
      },
      "execution_count": 56,
      "outputs": [
        {
          "output_type": "stream",
          "name": "stderr",
          "text": [
            "<ipython-input-50-557ba86c7a60>:44: UserWarning: To copy construct from a tensor, it is recommended to use sourceTensor.clone().detach() or sourceTensor.clone().detach().requires_grad_(True), rather than torch.tensor(sourceTensor).\n",
            "  label = torch.tensor(label, dtype=torch.long)\n"
          ]
        },
        {
          "output_type": "stream",
          "name": "stdout",
          "text": [
            "Epoch [1/10], Number of Batches: 1 Average Loss: 0.8793, \n",
            "Epoch [1/10], Number of Batches: 2 Average Loss: 0.9202, \n",
            "Epoch [1/10], Number of Batches: 3 Average Loss: 0.9261, \n",
            "Epoch [1/10], Number of Batches: 4 Average Loss: 0.9371, \n",
            "Epoch [1/10], Number of Batches: 5 Average Loss: 0.9312, \n",
            "Epoch [1/10], Number of Batches: 6 Average Loss: 0.9360, \n",
            "Epoch [1/10], Number of Batches: 7 Average Loss: 0.9351, \n",
            "Epoch [1/10], Number of Batches: 8 Average Loss: 0.9323, \n",
            "Epoch [1/10], Number of Batches: 9 Average Loss: 0.9331, \n",
            "Epoch [1/10], Number of Batches: 10 Average Loss: 0.9327, \n",
            "Epoch [1/10], Number of Batches: 11 Average Loss: 0.9319, \n",
            "Epoch [1/10], Number of Batches: 12 Average Loss: 0.9322, \n",
            "Epoch [1/10], Number of Batches: 13 Average Loss: 0.9291, \n",
            "Epoch [1/10], Number of Batches: 14 Average Loss: 0.9303, \n",
            "Epoch [1/10], Number of Batches: 15 Average Loss: 0.9235, \n",
            "Epoch [2/10], Number of Batches: 1 Average Loss: 0.8825, \n",
            "Epoch [2/10], Number of Batches: 2 Average Loss: 0.9109, \n",
            "Epoch [2/10], Number of Batches: 3 Average Loss: 0.9056, \n",
            "Epoch [2/10], Number of Batches: 4 Average Loss: 0.9097, \n",
            "Epoch [2/10], Number of Batches: 5 Average Loss: 0.9083, \n",
            "Epoch [2/10], Number of Batches: 6 Average Loss: 0.9090, \n",
            "Epoch [2/10], Number of Batches: 7 Average Loss: 0.9062, \n",
            "Epoch [2/10], Number of Batches: 8 Average Loss: 0.9075, \n",
            "Epoch [2/10], Number of Batches: 9 Average Loss: 0.9107, \n",
            "Epoch [2/10], Number of Batches: 10 Average Loss: 0.9046, \n",
            "Epoch [2/10], Number of Batches: 11 Average Loss: 0.9028, \n",
            "Epoch [2/10], Number of Batches: 12 Average Loss: 0.9018, \n",
            "Epoch [2/10], Number of Batches: 13 Average Loss: 0.9020, \n",
            "Epoch [2/10], Number of Batches: 14 Average Loss: 0.9003, \n",
            "Epoch [2/10], Number of Batches: 15 Average Loss: 0.9011, \n",
            "Epoch [3/10], Number of Batches: 1 Average Loss: 0.8664, \n",
            "Epoch [3/10], Number of Batches: 2 Average Loss: 0.8876, \n",
            "Epoch [3/10], Number of Batches: 3 Average Loss: 0.8956, \n",
            "Epoch [3/10], Number of Batches: 4 Average Loss: 0.8973, \n",
            "Epoch [3/10], Number of Batches: 5 Average Loss: 0.9044, \n",
            "Epoch [3/10], Number of Batches: 6 Average Loss: 0.9093, \n",
            "Epoch [3/10], Number of Batches: 7 Average Loss: 0.9123, \n",
            "Epoch [3/10], Number of Batches: 8 Average Loss: 0.9112, \n",
            "Epoch [3/10], Number of Batches: 9 Average Loss: 0.9101, \n",
            "Epoch [3/10], Number of Batches: 10 Average Loss: 0.9094, \n",
            "Epoch [3/10], Number of Batches: 11 Average Loss: 0.9055, \n",
            "Epoch [3/10], Number of Batches: 12 Average Loss: 0.9074, \n",
            "Epoch [3/10], Number of Batches: 13 Average Loss: 0.9075, \n",
            "Epoch [3/10], Number of Batches: 14 Average Loss: 0.9065, \n",
            "Epoch [3/10], Number of Batches: 15 Average Loss: 0.9022, \n",
            "Epoch [4/10], Number of Batches: 1 Average Loss: 0.8816, \n",
            "Epoch [4/10], Number of Batches: 2 Average Loss: 0.8816, \n",
            "Epoch [4/10], Number of Batches: 3 Average Loss: 0.8846, \n",
            "Epoch [4/10], Number of Batches: 4 Average Loss: 0.8896, \n",
            "Epoch [4/10], Number of Batches: 5 Average Loss: 0.8880, \n",
            "Epoch [4/10], Number of Batches: 6 Average Loss: 0.8831, \n",
            "Epoch [4/10], Number of Batches: 7 Average Loss: 0.8827, \n",
            "Epoch [4/10], Number of Batches: 8 Average Loss: 0.8775, \n",
            "Epoch [4/10], Number of Batches: 9 Average Loss: 0.8813, \n",
            "Epoch [4/10], Number of Batches: 10 Average Loss: 0.8772, \n",
            "Epoch [4/10], Number of Batches: 11 Average Loss: 0.8786, \n",
            "Epoch [4/10], Number of Batches: 12 Average Loss: 0.8798, \n",
            "Epoch [4/10], Number of Batches: 13 Average Loss: 0.8806, \n",
            "Epoch [4/10], Number of Batches: 14 Average Loss: 0.8794, \n",
            "Epoch [4/10], Number of Batches: 15 Average Loss: 0.8769, \n",
            "Epoch [5/10], Number of Batches: 1 Average Loss: 0.8722, \n",
            "Epoch [5/10], Number of Batches: 2 Average Loss: 0.8633, \n",
            "Epoch [5/10], Number of Batches: 3 Average Loss: 0.8790, \n",
            "Epoch [5/10], Number of Batches: 4 Average Loss: 0.8738, \n",
            "Epoch [5/10], Number of Batches: 5 Average Loss: 0.8882, \n",
            "Epoch [5/10], Number of Batches: 6 Average Loss: 0.8826, \n",
            "Epoch [5/10], Number of Batches: 7 Average Loss: 0.8882, \n",
            "Epoch [5/10], Number of Batches: 8 Average Loss: 0.8937, \n",
            "Epoch [5/10], Number of Batches: 9 Average Loss: 0.8915, \n",
            "Epoch [5/10], Number of Batches: 10 Average Loss: 0.8896, \n",
            "Epoch [5/10], Number of Batches: 11 Average Loss: 0.8843, \n",
            "Epoch [5/10], Number of Batches: 12 Average Loss: 0.8813, \n",
            "Epoch [5/10], Number of Batches: 13 Average Loss: 0.8804, \n",
            "Epoch [5/10], Number of Batches: 14 Average Loss: 0.8770, \n",
            "Epoch [5/10], Number of Batches: 15 Average Loss: 0.8790, \n",
            "Epoch [6/10], Number of Batches: 1 Average Loss: 0.8483, \n",
            "Epoch [6/10], Number of Batches: 2 Average Loss: 0.8650, \n",
            "Epoch [6/10], Number of Batches: 3 Average Loss: 0.8639, \n",
            "Epoch [6/10], Number of Batches: 4 Average Loss: 0.8670, \n",
            "Epoch [6/10], Number of Batches: 5 Average Loss: 0.8624, \n",
            "Epoch [6/10], Number of Batches: 6 Average Loss: 0.8534, \n",
            "Epoch [6/10], Number of Batches: 7 Average Loss: 0.8497, \n",
            "Epoch [6/10], Number of Batches: 8 Average Loss: 0.8502, \n",
            "Epoch [6/10], Number of Batches: 9 Average Loss: 0.8519, \n",
            "Epoch [6/10], Number of Batches: 10 Average Loss: 0.8546, \n",
            "Epoch [6/10], Number of Batches: 11 Average Loss: 0.8595, \n",
            "Epoch [6/10], Number of Batches: 12 Average Loss: 0.8580, \n",
            "Epoch [6/10], Number of Batches: 13 Average Loss: 0.8582, \n",
            "Epoch [6/10], Number of Batches: 14 Average Loss: 0.8589, \n",
            "Epoch [6/10], Number of Batches: 15 Average Loss: 0.8603, \n",
            "Epoch [7/10], Number of Batches: 1 Average Loss: 0.8392, \n",
            "Epoch [7/10], Number of Batches: 2 Average Loss: 0.8443, \n",
            "Epoch [7/10], Number of Batches: 3 Average Loss: 0.8512, \n",
            "Epoch [7/10], Number of Batches: 4 Average Loss: 0.8444, \n",
            "Epoch [7/10], Number of Batches: 5 Average Loss: 0.8490, \n",
            "Epoch [7/10], Number of Batches: 6 Average Loss: 0.8555, \n",
            "Epoch [7/10], Number of Batches: 7 Average Loss: 0.8572, \n",
            "Epoch [7/10], Number of Batches: 8 Average Loss: 0.8541, \n",
            "Epoch [7/10], Number of Batches: 9 Average Loss: 0.8532, \n",
            "Epoch [7/10], Number of Batches: 10 Average Loss: 0.8492, \n",
            "Epoch [7/10], Number of Batches: 11 Average Loss: 0.8440, \n",
            "Epoch [7/10], Number of Batches: 12 Average Loss: 0.8406, \n",
            "Epoch [7/10], Number of Batches: 13 Average Loss: 0.8426, \n",
            "Epoch [7/10], Number of Batches: 14 Average Loss: 0.8445, \n",
            "Epoch [7/10], Number of Batches: 15 Average Loss: 0.8399, \n",
            "Epoch [8/10], Number of Batches: 1 Average Loss: 0.8395, \n",
            "Epoch [8/10], Number of Batches: 2 Average Loss: 0.8307, \n",
            "Epoch [8/10], Number of Batches: 3 Average Loss: 0.8363, \n",
            "Epoch [8/10], Number of Batches: 4 Average Loss: 0.8490, \n",
            "Epoch [8/10], Number of Batches: 5 Average Loss: 0.8446, \n",
            "Epoch [8/10], Number of Batches: 6 Average Loss: 0.8383, \n",
            "Epoch [8/10], Number of Batches: 7 Average Loss: 0.8390, \n",
            "Epoch [8/10], Number of Batches: 8 Average Loss: 0.8389, \n",
            "Epoch [8/10], Number of Batches: 9 Average Loss: 0.8351, \n",
            "Epoch [8/10], Number of Batches: 10 Average Loss: 0.8338, \n",
            "Epoch [8/10], Number of Batches: 11 Average Loss: 0.8339, \n",
            "Epoch [8/10], Number of Batches: 12 Average Loss: 0.8379, \n",
            "Epoch [8/10], Number of Batches: 13 Average Loss: 0.8383, \n",
            "Epoch [8/10], Number of Batches: 14 Average Loss: 0.8356, \n",
            "Epoch [8/10], Number of Batches: 15 Average Loss: 0.8321, \n",
            "Epoch [9/10], Number of Batches: 1 Average Loss: 0.8766, \n",
            "Epoch [9/10], Number of Batches: 2 Average Loss: 0.8632, \n",
            "Epoch [9/10], Number of Batches: 3 Average Loss: 0.8342, \n",
            "Epoch [9/10], Number of Batches: 4 Average Loss: 0.8354, \n",
            "Epoch [9/10], Number of Batches: 5 Average Loss: 0.8411, \n",
            "Epoch [9/10], Number of Batches: 6 Average Loss: 0.8346, \n",
            "Epoch [9/10], Number of Batches: 7 Average Loss: 0.8357, \n",
            "Epoch [9/10], Number of Batches: 8 Average Loss: 0.8360, \n",
            "Epoch [9/10], Number of Batches: 9 Average Loss: 0.8328, \n",
            "Epoch [9/10], Number of Batches: 10 Average Loss: 0.8295, \n",
            "Epoch [9/10], Number of Batches: 11 Average Loss: 0.8296, \n",
            "Epoch [9/10], Number of Batches: 12 Average Loss: 0.8253, \n",
            "Epoch [9/10], Number of Batches: 13 Average Loss: 0.8277, \n",
            "Epoch [9/10], Number of Batches: 14 Average Loss: 0.8264, \n",
            "Epoch [9/10], Number of Batches: 15 Average Loss: 0.8158, \n",
            "Epoch [10/10], Number of Batches: 1 Average Loss: 0.8472, \n",
            "Epoch [10/10], Number of Batches: 2 Average Loss: 0.8263, \n",
            "Epoch [10/10], Number of Batches: 3 Average Loss: 0.8198, \n",
            "Epoch [10/10], Number of Batches: 4 Average Loss: 0.8182, \n",
            "Epoch [10/10], Number of Batches: 5 Average Loss: 0.8221, \n",
            "Epoch [10/10], Number of Batches: 6 Average Loss: 0.8194, \n",
            "Epoch [10/10], Number of Batches: 7 Average Loss: 0.8200, \n",
            "Epoch [10/10], Number of Batches: 8 Average Loss: 0.8191, \n",
            "Epoch [10/10], Number of Batches: 9 Average Loss: 0.8157, \n",
            "Epoch [10/10], Number of Batches: 10 Average Loss: 0.8178, \n",
            "Epoch [10/10], Number of Batches: 11 Average Loss: 0.8146, \n",
            "Epoch [10/10], Number of Batches: 12 Average Loss: 0.8144, \n",
            "Epoch [10/10], Number of Batches: 13 Average Loss: 0.8126, \n",
            "Epoch [10/10], Number of Batches: 14 Average Loss: 0.8136, \n",
            "Epoch [10/10], Number of Batches: 15 Average Loss: 0.8133, \n"
          ]
        }
      ]
    },
    {
      "cell_type": "code",
      "source": [
        "from sklearn.metrics import confusion_matrix\n",
        "import matplotlib.pyplot as plt\n",
        "import seaborn as sns\n",
        "import numpy as np"
      ],
      "metadata": {
        "id": "n13Gt8CtWw5y"
      },
      "execution_count": 57,
      "outputs": []
    },
    {
      "cell_type": "code",
      "source": [
        "def plot_confusion_matrix(y_true, y_pred, classes):\n",
        "    \"\"\" 혼동 행렬을 시각화하는 함수 \"\"\"\n",
        "    cm = confusion_matrix(y_true, y_pred)  # 혼동 행렬 계산\n",
        "    plt.figure(figsize=(8, 6))\n",
        "\n",
        "    # 혼동 행렬을 히트맵으로 시각화\n",
        "    sns.heatmap(cm, annot=True, fmt='d', cmap='berlin',\n",
        "                xticklabels=classes, yticklabels=classes)\n",
        "    plt.ylabel('Actual')\n",
        "    plt.xlabel('Predicted')\n",
        "    plt.title('Confusion Matrix')\n",
        "    plt.show()\n",
        "\n",
        "def evaluate_model(model, dataloader):\n",
        "    model.eval()  # 모델을 평가 모드로 설정\n",
        "    all_preds = []  # 예측을 저장할 리스트\n",
        "    all_labels = []  # 실제 레이블을 저장할 리스트\n",
        "\n",
        "    with torch.no_grad():  # 그래디언트 계산 비활성화\n",
        "        for images, labels in dataloader:\n",
        "            outputs = model(images)  # 예측 수행\n",
        "            outputs = outputs.view(-1, 3)  # 필요에 따라 형태 변환\n",
        "            _, predicted = torch.max(outputs, 1)  # 가장 높은 확률 클래스 선택\n",
        "\n",
        "            all_preds.extend(predicted.numpy())  # 예측값 저장\n",
        "            all_labels.extend(labels.view(-1).numpy())  # 실제 레이블 저장\n",
        "\n",
        "    return all_labels, all_preds  # 실제 레이블 및 예측값 반환"
      ],
      "metadata": {
        "id": "SUn8QNwsWyf2"
      },
      "execution_count": 60,
      "outputs": []
    },
    {
      "cell_type": "code",
      "source": [
        "all_labels, all_preds = evaluate_model(model, dataloader)\n",
        "class_names = ['X', 'blank', 'O'] # 클래스 이름 정의\n",
        "plot_confusion_matrix(all_labels, all_preds, classes=class_names) # 혼돈 행렬로 시각화"
      ],
      "metadata": {
        "colab": {
          "base_uri": "https://localhost:8080/",
          "height": 620
        },
        "id": "-C8PkqSEW3HJ",
        "outputId": "8a0ca22f-6a53-4541-f0fa-de942d135e46"
      },
      "execution_count": 61,
      "outputs": [
        {
          "output_type": "stream",
          "name": "stderr",
          "text": [
            "<ipython-input-50-557ba86c7a60>:44: UserWarning: To copy construct from a tensor, it is recommended to use sourceTensor.clone().detach() or sourceTensor.clone().detach().requires_grad_(True), rather than torch.tensor(sourceTensor).\n",
            "  label = torch.tensor(label, dtype=torch.long)\n"
          ]
        },
        {
          "output_type": "display_data",
          "data": {
            "text/plain": [
              "<Figure size 800x600 with 2 Axes>"
            ],
            "image/png": "[encoded data removed]"
          },
          "metadata": {}
        }
      ]
    },
    {
      "cell_type": "code",
      "source": [
        "all_labels, all_preds = evaluate_model(model, dataloader_augmented)\n",
        "class_names = ['X', 'blank', 'O'] # 클래스 이름 정의\n",
        "plot_confusion_matrix(all_labels, all_preds, classes=class_names) # 혼돈 행렬로 시각화"
      ],
      "metadata": {
        "colab": {
          "base_uri": "https://localhost:8080/",
          "height": 620
        },
        "id": "h4WBaCECW5tT",
        "outputId": "dd9bf29e-43c7-49b3-e2f8-12ef31b36b7f"
      },
      "execution_count": 62,
      "outputs": [
        {
          "output_type": "stream",
          "name": "stderr",
          "text": [
            "<ipython-input-50-557ba86c7a60>:44: UserWarning: To copy construct from a tensor, it is recommended to use sourceTensor.clone().detach() or sourceTensor.clone().detach().requires_grad_(True), rather than torch.tensor(sourceTensor).\n",
            "  label = torch.tensor(label, dtype=torch.long)\n"
          ]
        },
        {
          "output_type": "display_data",
          "data": {
            "text/plain": [
              "<Figure size 800x600 with 2 Axes>"
            ],
            "image/png": "[encoded data removed]"
          },
          "metadata": {}
        }
      ]
    }
  ]
}