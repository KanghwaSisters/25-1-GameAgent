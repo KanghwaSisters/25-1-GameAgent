{
  "nbformat": 4,
  "nbformat_minor": 0,
  "metadata": {
    "colab": {
      "provenance": []
    },
    "kernelspec": {
      "name": "python3",
      "display_name": "Python 3"
    },
    "language_info": {
      "name": "python"
    }
  },
  "cells": [
    {
      "cell_type": "markdown",
      "source": [
        "## 딥러닝 실습 과제 2주차 - CNN을 활용하여 보드 전체를 입력받아 9칸 상태 예측\n",
        "\n",
        "다음  세 가지 활동을 해봅시다.\n",
        "\n",
        "01. **모델 설계**: CNN 기반 분류 모델 활용\n",
        "02. **손실 함수 정의**: 각 칸에 대해 3-클래스 분류\n",
        "03. **학습 및 평가**: 시각화 함수, 정확도 측정, confusion matrix 등"
      ],
      "metadata": {
        "id": "_vECysj7UNoM"
      }
    },
    {
      "cell_type": "markdown",
      "source": [
        "TTTDataset.zip을 불러와 문제에서 요하는 코드를 구현하세요.\n",
        "\n",
        "💡 **데이터 구조**  \n",
        "- **`image_black`** : 이미지 데이터  \n",
        "- **`labels`** : 타겟 데이터  "
      ],
      "metadata": {
        "id": "s3_fdD7Y2iY4"
      }
    },
    {
      "cell_type": "code",
      "source": [
        "import torch\n",
        "from torch.utils.data import Dataset, DataLoader\n",
        "from torchvision import datasets, transforms\n",
        "import torch.nn as nn\n",
        "from PIL import Image\n",
        "import json\n",
        "\n",
        "from torch.utils.data import random_split\n",
        "import glob\n",
        "import os\n",
        "from torch.utils.data import DataLoader\n",
        "import torch.optim as optim"
      ],
      "metadata": {
        "id": "BhRH2q-fV8lc"
      },
      "execution_count": 158,
      "outputs": []
    },
    {
      "cell_type": "markdown",
      "source": [
        "## 00. 클래스\n",
        "정의한 클래스를 이용해 실행해 주세요."
      ],
      "metadata": {
        "id": "MCpJfLtnagvV"
      }
    },
    {
      "cell_type": "code",
      "source": [
        "from google.colab import drive\n",
        "drive.mount('/content/drive')\n",
        "\n",
        "image_dir = '/content/drive/My Drive/KHS/TTTDataset/image_black'\n",
        "label_dir = '/content/drive/My Drive/KHS/TTTDataset/labels'\n",
        "\n",
        "image_paths = sorted(glob.glob(os.path.join(image_dir, \"*.jpg\")) +\n",
        "                     glob.glob(os.path.join(image_dir, \"*.JPG\")))\n",
        "label_paths = sorted(glob.glob(os.path.join(label_dir, \"*.json\")))"
      ],
      "metadata": {
        "id": "bB494M-e1b6f",
        "colab": {
          "base_uri": "https://localhost:8080/"
        },
        "outputId": "d60f131d-8711-4ccf-d0f4-a04b66131fcb"
      },
      "execution_count": 159,
      "outputs": [
        {
          "output_type": "stream",
          "name": "stdout",
          "text": [
            "Drive already mounted at /content/drive; to attempt to forcibly remount, call drive.mount(\"/content/drive\", force_remount=True).\n"
          ]
        }
      ]
    },
    {
      "cell_type": "code",
      "source": [
        "# 데이터셋 생성\n",
        "dataset = TTTDataset(image_paths=image_paths, label_paths=label_paths, transform=transform)\n",
        "dataloader = DataLoader(dataset, batch_size=32, shuffle=True)"
      ],
      "metadata": {
        "id": "muvE4Ljfs5hp"
      },
      "execution_count": 160,
      "outputs": []
    },
    {
      "cell_type": "code",
      "source": [
        "class TTTDataset(Dataset):\n",
        "    def __init__(self, image_paths, label_paths, transform=None):\n",
        "        \"\"\"\n",
        "        틱택토 데이터셋을 PyTorch Dataset 형태로 변환.\n",
        "        :param image_paths: 이미지 파일 경로 리스트\n",
        "        :param label_paths: 레이블 JSON 파일 경로 리스트\n",
        "        :param transform: 이미지 전처리 변환\n",
        "        \"\"\"\n",
        "        self.image_paths = image_paths\n",
        "        self.label_paths = label_paths\n",
        "        self.transform = transform\n",
        "        self.data = self._load_data()\n",
        "\n",
        "\n",
        "    def _load_data(self):\n",
        "        \"\"\" 이미지 & 레이블 로드 \"\"\"\n",
        "        data = []\n",
        "        for img_path, lbl_path in zip(self.image_paths, self.label_paths):\n",
        "            # 이미지를 흑백(Grayscale)로 변환\n",
        "            image = Image.open(img_path).convert(\"L\")  # \"RGB\" 대신 \"L\" 사용\n",
        "\n",
        "            # JSON 레이블 로드\n",
        "            with open(lbl_path, 'r') as f:\n",
        "                labels = json.load(f)\n",
        "\n",
        "            # 레이블을 숫자로 변환 (O=1, X=-1, blank=0)\n",
        "            label_tensor = torch.tensor(\n",
        "                [2 if v == \"O\" else 0 if v == \"X\" else 1 for v in labels.values()],\n",
        "                dtype=torch.float32\n",
        "            )\n",
        "            data.append((image, label_tensor))\n",
        "\n",
        "        return data\n",
        "\n",
        "\n",
        "    def __len__(self):\n",
        "        \"\"\" 데이터셋 크기 반환 \"\"\"\n",
        "        return len(self.data)\n",
        "\n",
        "\n",
        "    def __getitem__(self, idx):\n",
        "        \"\"\" 데이터셋에서 idx 번째 샘플(이미지 & 레이블)을 가져오는 역할 \"\"\"\n",
        "        image, label = self.data[idx]\n",
        "\n",
        "        label = torch.tensor(label, dtype=torch.long)  # LongTensor로 변환\n",
        "\n",
        "        if self.transform:\n",
        "            image = self.transform(image)\n",
        "\n",
        "        return image, label"
      ],
      "metadata": {
        "id": "Ymwd8gfCYHiq"
      },
      "execution_count": 161,
      "outputs": []
    },
    {
      "cell_type": "code",
      "source": [
        "transform = transforms.Compose([\n",
        "    transforms.Resize((28, 28)),  # 이미지 크기를 28x28로 조정\n",
        "    transforms.ToTensor(),  # 이미지를 PyTorch 텐서로 변환\n",
        "    transforms.Normalize((0.5,), (0.5,))  # 정규화: 평균 0.5, 표준편차 0.5\n",
        "])\n",
        "\n",
        "# dataset 생성\n",
        "dataset = TTTDataset(image_paths, label_paths, transform=transform)\n",
        "\n",
        "total_size = len(dataset)\n",
        "train_size = int(0.7*total_size)\n",
        "val_size = int(0.15*total_size)\n",
        "test_size = total_size - train_size - val_size\n",
        "\n",
        "# 분할\n",
        "train_dataset, val_dataset, test_dataset = random_split(dataset, [train_size, val_size, test_size])\n",
        "\n",
        "print(f\"Train dataset size: {len(train_dataset)}\")\n",
        "print(f\"Validation dataset size: {len(val_dataset)}\")\n",
        "print(f\"Test dataset size: {len(test_dataset)}\")"
      ],
      "metadata": {
        "id": "UB4CuH5wOJhy",
        "colab": {
          "base_uri": "https://localhost:8080/"
        },
        "outputId": "1482dd96-50ee-4307-b744-3cb0dc05e3b8"
      },
      "execution_count": 162,
      "outputs": [
        {
          "output_type": "stream",
          "name": "stdout",
          "text": [
            "Train dataset size: 317\n",
            "Validation dataset size: 67\n",
            "Test dataset size: 69\n"
          ]
        }
      ]
    },
    {
      "cell_type": "markdown",
      "source": [
        "## 01. 모델 설계: CNN 기반 분류 모델 활용\n",
        "- 입력: 틱택토 보드 전체 이미지 (예: 128x128)\n",
        "- 출력: 9개의 상태(각 칸마다 O, X, blank 중 하나)"
      ],
      "metadata": {
        "id": "seQgBNd9aZNk"
      }
    },
    {
      "cell_type": "code",
      "source": [
        "class TicTacToeCNN(nn.Module):\n",
        "    def __init__(self):\n",
        "        super(TicTacToeCNN, self).__init__()\n",
        "\n",
        "        # Convolutional Layers\n",
        "        self.conv1 = nn.Conv2d(in_channels=1, out_channels=32, kernel_size=3, padding=1)\n",
        "        self.conv2 = nn.Conv2d(in_channels=32, out_channels=64, kernel_size=3, padding=1)\n",
        "        # 1채널 이미지(흑백) 입력, 32 특징 맵 출력, 3*3 커널 필터, 패딩=1로 입력 사이즈 유지\n",
        "\n",
        "        # Fully Connected Layers\n",
        "        self.fc1 = nn.Linear(64 * 7 * 7, 128) # 128 뉴런으로 변환 출력\n",
        "        self.fc2 = nn.Linear(128, 27)  # 9칸 * 3가지 상태 (O, X, blank)\n",
        "\n",
        "    def forward(self, x):\n",
        "        # Convolutional layers\n",
        "        x = F.relu(self.conv1(x))\n",
        "        x = F.max_pool2d(x, 2) # 맥스 풀링 - 채널 수 유지, h, w의 공간 크기 변화\n",
        "        x = F.relu(self.conv2(x))\n",
        "        x = F.max_pool2d(x, 2)\n",
        "\n",
        "        # Flatten - CNN에서 2차원 데이터를 다루므로 FcL 진입을 위해 평탄화 작업을 거쳐야 한다.\n",
        "        x = x.view(x.size(0), -1)\n",
        "\n",
        "        # Fully connected layers\n",
        "        x = F.relu(self.fc1(x))\n",
        "        x = self.fc2(x)\n",
        "\n",
        "        # Reshape to (batch_size, 9, 3)\n",
        "        x = x.view(-1, 9, 3)\n",
        "\n",
        "        # Apply softmax on each set of 3 outputs\n",
        "        x = F.softmax(x, dim=2) # 각 클래스에 속할 확률 출력\n",
        "        return x\n",
        "\n",
        "model = TicTacToeCNN()"
      ],
      "metadata": {
        "id": "WXUcJtN244bE"
      },
      "execution_count": 163,
      "outputs": []
    },
    {
      "cell_type": "markdown",
      "source": [
        "## 02. 손실 함수 정의: 각 칸에 대해 3-클래스 분류\n",
        "- 다중 클래스 분류이므로 CrossEntropyLoss 사용 가능\n",
        "- 9개 칸을 각각 분류하는 방식으로 모델 구성"
      ],
      "metadata": {
        "id": "DYVGt8R27tXu"
      }
    },
    {
      "cell_type": "code",
      "source": [
        "# Cross-Entropy 손실 함수 선언\n",
        "criterion = nn.CrossEntropyLoss()\n",
        "optimizer = optim.Adam(model.parameters(), lr=0.001)  # Example optimizer\n",
        "\n",
        "'''\n",
        "# 예시: 예측값과 실제값 (크기에 맞게, 예를 들어)\n",
        "outputs = model(input)  # model을 통한 예측값, shape: (batch_size, 9, 3)\n",
        "targets = torch.randint(0, 3, (batch_size, 9))  # 각각의 칸에 대한 실제 레이블 0~2 랜덤 값 부여, 배치당, 9칸씩\n",
        "loss = criterion(outputs.view(-1, 3), targets.view(-1)) # 손실 계산 - -1: 1차원 변환, 3: 클래스 3개\n",
        "'''"
      ],
      "metadata": {
        "id": "8KvefRQ4XhtC",
        "colab": {
          "base_uri": "https://localhost:8080/",
          "height": 72
        },
        "outputId": "26116c61-afa5-45b7-edb5-fba7fc699554"
      },
      "execution_count": 164,
      "outputs": [
        {
          "output_type": "execute_result",
          "data": {
            "text/plain": [
              "'\\n# 예시: 예측값과 실제값 (크기에 맞게, 예를 들어)\\noutputs = model(input)  # model을 통한 예측값, shape: (batch_size, 9, 3)\\ntargets = torch.randint(0, 3, (batch_size, 9))  # 각각의 칸에 대한 실제 레이블 0~2 랜덤 값 부여, 배치당, 9칸씩\\nloss = criterion(outputs.view(-1, 3), targets.view(-1)) # 손실 계산 - -1: 1차원 변환, 3: 클래스 3개\\n'"
            ],
            "application/vnd.google.colaboratory.intrinsic+json": {
              "type": "string"
            }
          },
          "metadata": {},
          "execution_count": 164
        }
      ]
    },
    {
      "cell_type": "markdown",
      "source": [
        "## 03. 학습 및 평가: 시각화 함수, 정확도 측정, confusion matrix 등\n",
        "- 학습 데이터로 모델을 훈련하고, 정확도 측정\n",
        "- 예측이 잘 되는지 시각화하여 분석"
      ],
      "metadata": {
        "id": "ugSpuxB27va_"
      }
    },
    {
      "cell_type": "code",
      "source": [
        "num_epochs = 10  # Number of epochs to train\n",
        "total_loss = 0\n",
        "num_batches = 0\n",
        "\n",
        "for epoch in range(num_epochs):\n",
        "    total_loss = 0\n",
        "    num_batches = 0\n",
        "    for images, labels in dataloader:\n",
        "        optimizer.zero_grad()  # Reset gradients\n",
        "\n",
        "        outputs = model(images)  # Get model predictions\n",
        "        outputs = outputs.view(-1, 3)\n",
        "\n",
        "        # Flatten the labels if necessary\n",
        "        labels = labels.view(-1)  # 예: (32, 9) -> (288,)\n",
        "\n",
        "        '''\n",
        "        # Forward pass\n",
        "        outputs = model(images)  # Get model predictions\n",
        "\n",
        "        # Ensure labels are a long tensor and have appropriate shape\n",
        "        labels = labels.view(-1)  # Flatten labels to 1D if they're not already\n",
        "        '''\n",
        "\n",
        "        # Compute loss\n",
        "        loss = criterion(outputs, labels)\n",
        "\n",
        "        # Backward pass and optimization\n",
        "        loss.backward()\n",
        "        optimizer.step()\n",
        "\n",
        "        total_loss += loss.item()  # 손실값 누적\n",
        "        num_batches += 1  # 배치 수 증가\n",
        "\n",
        "        # 에포크마다 평균 손실 및 배치 수 출력\n",
        "        average_loss = total_loss / num_batches  # 평균 손실 계산\n",
        "        print(f'Epoch [{epoch + 1}/{num_epochs}], '\n",
        "              f'Number of Batches: {num_batches}',\n",
        "              f'Average Loss: {average_loss:.4f}, ')"
      ],
      "metadata": {
        "id": "b2xM8ol5Xlj7",
        "colab": {
          "base_uri": "https://localhost:8080/"
        },
        "outputId": "b53b99b2-4f67-4661-d7e3-b6bb38aee630"
      },
      "execution_count": 165,
      "outputs": [
        {
          "output_type": "stream",
          "name": "stdout",
          "text": [
            "Epoch [1/10], Number of Batches: 1"
          ]
        },
        {
          "output_type": "stream",
          "name": "stderr",
          "text": [
            "<ipython-input-150-5d90136569ca>:45: UserWarning: To copy construct from a tensor, it is recommended to use sourceTensor.clone().detach() or sourceTensor.clone().detach().requires_grad_(True), rather than torch.tensor(sourceTensor).\n",
            "  label = torch.tensor(label, dtype=torch.long)  # LongTensor로 변환\n"
          ]
        },
        {
          "output_type": "stream",
          "name": "stdout",
          "text": [
            " Average Loss: 1.0994, \n",
            "Epoch [1/10], Number of Batches: 2 Average Loss: 1.0996, \n",
            "Epoch [1/10], Number of Batches: 3 Average Loss: 1.0978, \n",
            "Epoch [1/10], Number of Batches: 4 Average Loss: 1.0974, \n",
            "Epoch [1/10], Number of Batches: 5 Average Loss: 1.0978, \n",
            "Epoch [1/10], Number of Batches: 6 Average Loss: 1.0968, \n",
            "Epoch [1/10], Number of Batches: 7 Average Loss: 1.0953, \n",
            "Epoch [1/10], Number of Batches: 8 Average Loss: 1.0943, \n",
            "Epoch [1/10], Number of Batches: 9 Average Loss: 1.0944, \n",
            "Epoch [1/10], Number of Batches: 10 Average Loss: 1.0934, \n",
            "Epoch [1/10], Number of Batches: 11 Average Loss: 1.0928, \n",
            "Epoch [1/10], Number of Batches: 12 Average Loss: 1.0926, \n",
            "Epoch [1/10], Number of Batches: 13 Average Loss: 1.0909, \n",
            "Epoch [1/10], Number of Batches: 14 Average Loss: 1.0913, \n",
            "Epoch [1/10], Number of Batches: 15 Average Loss: 1.0911, \n",
            "Epoch [2/10], Number of Batches: 1 Average Loss: 1.0894, \n",
            "Epoch [2/10], Number of Batches: 2 Average Loss: 1.0816, \n",
            "Epoch [2/10], Number of Batches: 3 Average Loss: 1.0832, \n",
            "Epoch [2/10], Number of Batches: 4 Average Loss: 1.0765, \n",
            "Epoch [2/10], Number of Batches: 5 Average Loss: 1.0780, \n",
            "Epoch [2/10], Number of Batches: 6 Average Loss: 1.0773, \n",
            "Epoch [2/10], Number of Batches: 7 Average Loss: 1.0747, \n",
            "Epoch [2/10], Number of Batches: 8 Average Loss: 1.0762, \n",
            "Epoch [2/10], Number of Batches: 9 Average Loss: 1.0771, \n",
            "Epoch [2/10], Number of Batches: 10 Average Loss: 1.0758, \n",
            "Epoch [2/10], Number of Batches: 11 Average Loss: 1.0746, \n",
            "Epoch [2/10], Number of Batches: 12 Average Loss: 1.0758, \n",
            "Epoch [2/10], Number of Batches: 13 Average Loss: 1.0743, \n",
            "Epoch [2/10], Number of Batches: 14 Average Loss: 1.0748, \n",
            "Epoch [2/10], Number of Batches: 15 Average Loss: 1.0748, \n",
            "Epoch [3/10], Number of Batches: 1 Average Loss: 1.0393, \n",
            "Epoch [3/10], Number of Batches: 2 Average Loss: 1.0558, \n",
            "Epoch [3/10], Number of Batches: 3 Average Loss: 1.0541, \n",
            "Epoch [3/10], Number of Batches: 4 Average Loss: 1.0522, \n",
            "Epoch [3/10], Number of Batches: 5 Average Loss: 1.0475, \n",
            "Epoch [3/10], Number of Batches: 6 Average Loss: 1.0520, \n",
            "Epoch [3/10], Number of Batches: 7 Average Loss: 1.0520, \n",
            "Epoch [3/10], Number of Batches: 8 Average Loss: 1.0505, \n",
            "Epoch [3/10], Number of Batches: 9 Average Loss: 1.0527, \n",
            "Epoch [3/10], Number of Batches: 10 Average Loss: 1.0524, \n",
            "Epoch [3/10], Number of Batches: 11 Average Loss: 1.0515, \n",
            "Epoch [3/10], Number of Batches: 12 Average Loss: 1.0499, \n",
            "Epoch [3/10], Number of Batches: 13 Average Loss: 1.0484, \n",
            "Epoch [3/10], Number of Batches: 14 Average Loss: 1.0473, \n",
            "Epoch [3/10], Number of Batches: 15 Average Loss: 1.0465, \n",
            "Epoch [4/10], Number of Batches: 1 Average Loss: 1.0633, \n",
            "Epoch [4/10], Number of Batches: 2 Average Loss: 1.0478, \n",
            "Epoch [4/10], Number of Batches: 3 Average Loss: 1.0426, \n",
            "Epoch [4/10], Number of Batches: 4 Average Loss: 1.0393, \n",
            "Epoch [4/10], Number of Batches: 5 Average Loss: 1.0328, \n",
            "Epoch [4/10], Number of Batches: 6 Average Loss: 1.0316, \n",
            "Epoch [4/10], Number of Batches: 7 Average Loss: 1.0324, \n",
            "Epoch [4/10], Number of Batches: 8 Average Loss: 1.0305, \n",
            "Epoch [4/10], Number of Batches: 9 Average Loss: 1.0288, \n",
            "Epoch [4/10], Number of Batches: 10 Average Loss: 1.0282, \n",
            "Epoch [4/10], Number of Batches: 11 Average Loss: 1.0255, \n",
            "Epoch [4/10], Number of Batches: 12 Average Loss: 1.0228, \n",
            "Epoch [4/10], Number of Batches: 13 Average Loss: 1.0209, \n",
            "Epoch [4/10], Number of Batches: 14 Average Loss: 1.0200, \n",
            "Epoch [4/10], Number of Batches: 15 Average Loss: 1.0179, \n",
            "Epoch [5/10], Number of Batches: 1 Average Loss: 0.9941, \n",
            "Epoch [5/10], Number of Batches: 2 Average Loss: 1.0119, \n",
            "Epoch [5/10], Number of Batches: 3 Average Loss: 1.0055, \n",
            "Epoch [5/10], Number of Batches: 4 Average Loss: 1.0001, \n",
            "Epoch [5/10], Number of Batches: 5 Average Loss: 1.0032, \n",
            "Epoch [5/10], Number of Batches: 6 Average Loss: 0.9950, \n",
            "Epoch [5/10], Number of Batches: 7 Average Loss: 0.9886, \n",
            "Epoch [5/10], Number of Batches: 8 Average Loss: 0.9853, \n",
            "Epoch [5/10], Number of Batches: 9 Average Loss: 0.9851, \n",
            "Epoch [5/10], Number of Batches: 10 Average Loss: 0.9860, \n",
            "Epoch [5/10], Number of Batches: 11 Average Loss: 0.9832, \n",
            "Epoch [5/10], Number of Batches: 12 Average Loss: 0.9824, \n",
            "Epoch [5/10], Number of Batches: 13 Average Loss: 0.9792, \n",
            "Epoch [5/10], Number of Batches: 14 Average Loss: 0.9787, \n",
            "Epoch [5/10], Number of Batches: 15 Average Loss: 0.9804, \n",
            "Epoch [6/10], Number of Batches: 1 Average Loss: 0.9187, \n",
            "Epoch [6/10], Number of Batches: 2 Average Loss: 0.9408, \n",
            "Epoch [6/10], Number of Batches: 3 Average Loss: 0.9304, \n",
            "Epoch [6/10], Number of Batches: 4 Average Loss: 0.9456, \n",
            "Epoch [6/10], Number of Batches: 5 Average Loss: 0.9486, \n",
            "Epoch [6/10], Number of Batches: 6 Average Loss: 0.9477, \n",
            "Epoch [6/10], Number of Batches: 7 Average Loss: 0.9440, \n",
            "Epoch [6/10], Number of Batches: 8 Average Loss: 0.9430, \n",
            "Epoch [6/10], Number of Batches: 9 Average Loss: 0.9396, \n",
            "Epoch [6/10], Number of Batches: 10 Average Loss: 0.9400, \n",
            "Epoch [6/10], Number of Batches: 11 Average Loss: 0.9391, \n",
            "Epoch [6/10], Number of Batches: 12 Average Loss: 0.9417, \n",
            "Epoch [6/10], Number of Batches: 13 Average Loss: 0.9412, \n",
            "Epoch [6/10], Number of Batches: 14 Average Loss: 0.9422, \n",
            "Epoch [6/10], Number of Batches: 15 Average Loss: 0.9424, \n",
            "Epoch [7/10], Number of Batches: 1 Average Loss: 0.9331, \n",
            "Epoch [7/10], Number of Batches: 2 Average Loss: 0.9397, \n",
            "Epoch [7/10], Number of Batches: 3 Average Loss: 0.9328, \n",
            "Epoch [7/10], Number of Batches: 4 Average Loss: 0.9324, \n",
            "Epoch [7/10], Number of Batches: 5 Average Loss: 0.9280, \n",
            "Epoch [7/10], Number of Batches: 6 Average Loss: 0.9221, \n",
            "Epoch [7/10], Number of Batches: 7 Average Loss: 0.9209, \n",
            "Epoch [7/10], Number of Batches: 8 Average Loss: 0.9208, \n",
            "Epoch [7/10], Number of Batches: 9 Average Loss: 0.9203, \n",
            "Epoch [7/10], Number of Batches: 10 Average Loss: 0.9202, \n",
            "Epoch [7/10], Number of Batches: 11 Average Loss: 0.9171, \n",
            "Epoch [7/10], Number of Batches: 12 Average Loss: 0.9153, \n",
            "Epoch [7/10], Number of Batches: 13 Average Loss: 0.9121, \n",
            "Epoch [7/10], Number of Batches: 14 Average Loss: 0.9093, \n",
            "Epoch [7/10], Number of Batches: 15 Average Loss: 0.9056, \n",
            "Epoch [8/10], Number of Batches: 1 Average Loss: 0.8831, \n",
            "Epoch [8/10], Number of Batches: 2 Average Loss: 0.8730, \n",
            "Epoch [8/10], Number of Batches: 3 Average Loss: 0.8841, \n",
            "Epoch [8/10], Number of Batches: 4 Average Loss: 0.8823, \n",
            "Epoch [8/10], Number of Batches: 5 Average Loss: 0.8801, \n",
            "Epoch [8/10], Number of Batches: 6 Average Loss: 0.8793, \n",
            "Epoch [8/10], Number of Batches: 7 Average Loss: 0.8775, \n",
            "Epoch [8/10], Number of Batches: 8 Average Loss: 0.8750, \n",
            "Epoch [8/10], Number of Batches: 9 Average Loss: 0.8752, \n",
            "Epoch [8/10], Number of Batches: 10 Average Loss: 0.8808, \n",
            "Epoch [8/10], Number of Batches: 11 Average Loss: 0.8791, \n",
            "Epoch [8/10], Number of Batches: 12 Average Loss: 0.8781, \n",
            "Epoch [8/10], Number of Batches: 13 Average Loss: 0.8774, \n",
            "Epoch [8/10], Number of Batches: 14 Average Loss: 0.8769, \n",
            "Epoch [8/10], Number of Batches: 15 Average Loss: 0.8789, \n",
            "Epoch [9/10], Number of Batches: 1 Average Loss: 0.8453, \n",
            "Epoch [9/10], Number of Batches: 2 Average Loss: 0.8675, \n",
            "Epoch [9/10], Number of Batches: 3 Average Loss: 0.8560, \n",
            "Epoch [9/10], Number of Batches: 4 Average Loss: 0.8529, \n",
            "Epoch [9/10], Number of Batches: 5 Average Loss: 0.8565, \n",
            "Epoch [9/10], Number of Batches: 6 Average Loss: 0.8532, \n",
            "Epoch [9/10], Number of Batches: 7 Average Loss: 0.8528, \n",
            "Epoch [9/10], Number of Batches: 8 Average Loss: 0.8525, \n",
            "Epoch [9/10], Number of Batches: 9 Average Loss: 0.8504, \n",
            "Epoch [9/10], Number of Batches: 10 Average Loss: 0.8484, \n",
            "Epoch [9/10], Number of Batches: 11 Average Loss: 0.8502, \n",
            "Epoch [9/10], Number of Batches: 12 Average Loss: 0.8479, \n",
            "Epoch [9/10], Number of Batches: 13 Average Loss: 0.8468, \n",
            "Epoch [9/10], Number of Batches: 14 Average Loss: 0.8420, \n",
            "Epoch [9/10], Number of Batches: 15 Average Loss: 0.8356, \n",
            "Epoch [10/10], Number of Batches: 1 Average Loss: 0.7779, \n",
            "Epoch [10/10], Number of Batches: 2 Average Loss: 0.7952, \n",
            "Epoch [10/10], Number of Batches: 3 Average Loss: 0.8014, \n",
            "Epoch [10/10], Number of Batches: 4 Average Loss: 0.7992, \n",
            "Epoch [10/10], Number of Batches: 5 Average Loss: 0.8044, \n",
            "Epoch [10/10], Number of Batches: 6 Average Loss: 0.8029, \n",
            "Epoch [10/10], Number of Batches: 7 Average Loss: 0.8046, \n",
            "Epoch [10/10], Number of Batches: 8 Average Loss: 0.8059, \n",
            "Epoch [10/10], Number of Batches: 9 Average Loss: 0.8076, \n",
            "Epoch [10/10], Number of Batches: 10 Average Loss: 0.8041, \n",
            "Epoch [10/10], Number of Batches: 11 Average Loss: 0.8062, \n",
            "Epoch [10/10], Number of Batches: 12 Average Loss: 0.8059, \n",
            "Epoch [10/10], Number of Batches: 13 Average Loss: 0.8052, \n",
            "Epoch [10/10], Number of Batches: 14 Average Loss: 0.8051, \n",
            "Epoch [10/10], Number of Batches: 15 Average Loss: 0.8060, \n"
          ]
        }
      ]
    },
    {
      "cell_type": "code",
      "source": [
        "from sklearn.metrics import confusion_matrix\n",
        "import matplotlib.pyplot as plt\n",
        "import seaborn as sns\n",
        "import numpy as np"
      ],
      "metadata": {
        "id": "ZX-azEsP58Ut"
      },
      "execution_count": 166,
      "outputs": []
    },
    {
      "cell_type": "code",
      "source": [
        "def plot_confusion_matrix(y_true, y_pred, classes):\n",
        "    \"\"\" 혼동 행렬을 시각화하는 함수 \"\"\"\n",
        "    cm = confusion_matrix(y_true, y_pred)  # 혼동 행렬 계산\n",
        "    plt.figure(figsize=(8, 6))\n",
        "\n",
        "    # 혼동 행렬을 히트맵으로 시각화\n",
        "    sns.heatmap(cm, annot=True, fmt='d', cmap='vanimo',\n",
        "                xticklabels=classes, yticklabels=classes)\n",
        "    plt.ylabel('Actual')\n",
        "    plt.xlabel('Predicted')\n",
        "    plt.title('Confusion Matrix')\n",
        "    plt.show()\n",
        "\n",
        "def evaluate_model(model, dataloader):\n",
        "    model.eval()  # 모델을 평가 모드로 설정\n",
        "    all_preds = []  # 예측을 저장할 리스트\n",
        "    all_labels = []  # 실제 레이블을 저장할 리스트\n",
        "\n",
        "    with torch.no_grad():  # 그래디언트 계산 비활성화\n",
        "        for images, labels in dataloader:\n",
        "            outputs = model(images)  # 예측 수행\n",
        "            outputs = outputs.view(-1, 3)  # 필요에 따라 형태 변환\n",
        "            _, predicted = torch.max(outputs, 1)  # 가장 높은 확률 클래스 선택\n",
        "\n",
        "            all_preds.extend(predicted.numpy())  # 예측값 저장\n",
        "            all_labels.extend(labels.view(-1).numpy())  # 실제 레이블 저장\n",
        "\n",
        "    return all_labels, all_preds  # 실제 레이블 및 예측값 반환\n",
        "\n",
        "\n",
        "all_labels, all_preds = evaluate_model(model, dataloader)\n",
        "class_names = ['X', 'blank', 'O'] # 클래스 이름 정의\n",
        "plot_confusion_matrix(all_labels, all_preds, classes=class_names) # 혼돈 행렬로 시각화"
      ],
      "metadata": {
        "colab": {
          "base_uri": "https://localhost:8080/",
          "height": 620
        },
        "id": "yGMfpgLW64EV",
        "outputId": "689c5c88-e1bf-4d62-952c-8920f4a65778"
      },
      "execution_count": 180,
      "outputs": [
        {
          "output_type": "stream",
          "name": "stderr",
          "text": [
            "<ipython-input-150-5d90136569ca>:45: UserWarning: To copy construct from a tensor, it is recommended to use sourceTensor.clone().detach() or sourceTensor.clone().detach().requires_grad_(True), rather than torch.tensor(sourceTensor).\n",
            "  label = torch.tensor(label, dtype=torch.long)  # LongTensor로 변환\n"
          ]
        },
        {
          "output_type": "display_data",
          "data": {
            "text/plain": [
              "<Figure size 800x600 with 2 Axes>"
            ],
            "image/png": "[encoded data removed]"
          },
          "metadata": {}
        }
      ]
    }
  ]
}